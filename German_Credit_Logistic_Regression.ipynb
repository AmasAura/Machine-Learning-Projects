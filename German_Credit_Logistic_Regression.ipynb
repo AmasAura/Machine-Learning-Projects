{
 "cells": [
  {
   "cell_type": "markdown",
   "id": "0bb749ad-f4f2-4a2d-842c-5e6bbb93abbb",
   "metadata": {
    "jp-MarkdownHeadingCollapsed": true
   },
   "source": [
    "## Problem Statement\n",
    "\n",
    "\n",
    "*Context*\n",
    "  \n",
    "To minimize loss from the bank’s perspective, the bank needs a decision rule regarding whom to approve the loan and whom not to. An applicant’s demographic and socio-economic profiles are considered by loan managers before a decision is taken regarding his/her loan application. In this dataset, each entry represents a person who takes credit from a bank. Each person is classified as a good or bad credit risk according to the set of attributes.\n",
    "\n",
    "*Objective:*\n",
    "    \n",
    "The objective is to build a predictive model on this data to help the bank decide on whether to approve a loan to a prospective applicant.\n",
    "\n",
    "*Dataset:*\n",
    "\n",
    "- Age (Numeric: Age in years)\n",
    "- Sex (Categories: male, female)\n",
    "- Job (Categories: unskilled and non-resident, unskilled and resident, skilled, highly skilled)\n",
    "- Housing (Categories: own, rent, or free)\n",
    "- Saving accounts (Categories: little, moderate, quite rich, rich)\n",
    "- Checking account (Categories: little, moderate, rich)\n",
    "- Credit amount (Numeric: Amount of credit in DM - Deutsche Mark)\n",
    "- Duration (Numeric: Duration for which the credit is given in months)\n",
    "- Purpose (Categories: car, furniture/equipment,radio/TV, domestic appliances, repairs, education, business, vacation/others)\n",
    "- Risk (0 - Person is not at risk, 1 - Person is at risk(defaulter))"
   ]
  },
  {
   "cell_type": "markdown",
   "id": "80e7caf2-dd82-4808-879e-7bf595577b8c",
   "metadata": {},
   "source": [
    "## IMPORT LIBRABRIES"
   ]
  },
  {
   "cell_type": "code",
   "execution_count": 102,
   "id": "c7133ac9-2cdd-4fba-8675-4e1e60133ea3",
   "metadata": {},
   "outputs": [],
   "source": [
    "#import necessary libraries\n",
    "import pandas as pd\n",
    "import numpy as np\n",
    "import matplotlib.pyplot as plt\n",
    "import seaborn as sns\n",
    "from sklearn.linear_model import LinearRegression\n",
    "from sklearn.preprocessing import MinMaxScaler\n",
    "import pickle"
   ]
  },
  {
   "cell_type": "markdown",
   "id": "cb10cbad-d6bc-42f3-8c6d-ff5144bf755c",
   "metadata": {},
   "source": [
    "## READ DATASET"
   ]
  },
  {
   "cell_type": "code",
   "execution_count": 103,
   "id": "3024e206-b056-42d3-bda8-387f9b28442f",
   "metadata": {},
   "outputs": [],
   "source": [
    "df0 = pd.read_csv(\"German_Credit.csv\")\n",
    "df = df0.copy()"
   ]
  },
  {
   "cell_type": "code",
   "execution_count": 104,
   "id": "0757b252-8da5-44fa-8711-96a6ade7c57f",
   "metadata": {},
   "outputs": [
    {
     "data": {
      "text/html": [
       "<div>\n",
       "<style scoped>\n",
       "    .dataframe tbody tr th:only-of-type {\n",
       "        vertical-align: middle;\n",
       "    }\n",
       "\n",
       "    .dataframe tbody tr th {\n",
       "        vertical-align: top;\n",
       "    }\n",
       "\n",
       "    .dataframe thead th {\n",
       "        text-align: right;\n",
       "    }\n",
       "</style>\n",
       "<table border=\"1\" class=\"dataframe\">\n",
       "  <thead>\n",
       "    <tr style=\"text-align: right;\">\n",
       "      <th></th>\n",
       "      <th>Age</th>\n",
       "      <th>Sex</th>\n",
       "      <th>Job</th>\n",
       "      <th>Housing</th>\n",
       "      <th>Saving accounts</th>\n",
       "      <th>Checking account</th>\n",
       "      <th>Credit amount</th>\n",
       "      <th>Duration</th>\n",
       "      <th>Risk</th>\n",
       "      <th>Purpose</th>\n",
       "    </tr>\n",
       "  </thead>\n",
       "  <tbody>\n",
       "    <tr>\n",
       "      <th>19</th>\n",
       "      <td>31</td>\n",
       "      <td>male</td>\n",
       "      <td>skilled</td>\n",
       "      <td>own</td>\n",
       "      <td>quite rich</td>\n",
       "      <td>moderate</td>\n",
       "      <td>3430</td>\n",
       "      <td>24</td>\n",
       "      <td>0</td>\n",
       "      <td>radio/TV</td>\n",
       "    </tr>\n",
       "    <tr>\n",
       "      <th>176</th>\n",
       "      <td>42</td>\n",
       "      <td>male</td>\n",
       "      <td>skilled</td>\n",
       "      <td>own</td>\n",
       "      <td>little</td>\n",
       "      <td>little</td>\n",
       "      <td>2577</td>\n",
       "      <td>12</td>\n",
       "      <td>0</td>\n",
       "      <td>furniture/equipment</td>\n",
       "    </tr>\n",
       "    <tr>\n",
       "      <th>418</th>\n",
       "      <td>31</td>\n",
       "      <td>female</td>\n",
       "      <td>highly skilled</td>\n",
       "      <td>own</td>\n",
       "      <td>quite rich</td>\n",
       "      <td>moderate</td>\n",
       "      <td>2782</td>\n",
       "      <td>21</td>\n",
       "      <td>0</td>\n",
       "      <td>car</td>\n",
       "    </tr>\n",
       "    <tr>\n",
       "      <th>335</th>\n",
       "      <td>44</td>\n",
       "      <td>male</td>\n",
       "      <td>highly skilled</td>\n",
       "      <td>rent</td>\n",
       "      <td>little</td>\n",
       "      <td>little</td>\n",
       "      <td>3384</td>\n",
       "      <td>6</td>\n",
       "      <td>1</td>\n",
       "      <td>furniture/equipment</td>\n",
       "    </tr>\n",
       "    <tr>\n",
       "      <th>533</th>\n",
       "      <td>26</td>\n",
       "      <td>male</td>\n",
       "      <td>skilled</td>\n",
       "      <td>own</td>\n",
       "      <td>moderate</td>\n",
       "      <td>moderate</td>\n",
       "      <td>1311</td>\n",
       "      <td>24</td>\n",
       "      <td>0</td>\n",
       "      <td>radio/TV</td>\n",
       "    </tr>\n",
       "    <tr>\n",
       "      <th>859</th>\n",
       "      <td>26</td>\n",
       "      <td>male</td>\n",
       "      <td>skilled</td>\n",
       "      <td>rent</td>\n",
       "      <td>moderate</td>\n",
       "      <td>moderate</td>\n",
       "      <td>3577</td>\n",
       "      <td>9</td>\n",
       "      <td>0</td>\n",
       "      <td>car</td>\n",
       "    </tr>\n",
       "    <tr>\n",
       "      <th>680</th>\n",
       "      <td>56</td>\n",
       "      <td>female</td>\n",
       "      <td>skilled</td>\n",
       "      <td>own</td>\n",
       "      <td>little</td>\n",
       "      <td>little</td>\n",
       "      <td>1538</td>\n",
       "      <td>6</td>\n",
       "      <td>0</td>\n",
       "      <td>education</td>\n",
       "    </tr>\n",
       "    <tr>\n",
       "      <th>357</th>\n",
       "      <td>26</td>\n",
       "      <td>male</td>\n",
       "      <td>highly skilled</td>\n",
       "      <td>own</td>\n",
       "      <td>little</td>\n",
       "      <td>little</td>\n",
       "      <td>4463</td>\n",
       "      <td>36</td>\n",
       "      <td>1</td>\n",
       "      <td>radio/TV</td>\n",
       "    </tr>\n",
       "    <tr>\n",
       "      <th>495</th>\n",
       "      <td>20</td>\n",
       "      <td>male</td>\n",
       "      <td>skilled</td>\n",
       "      <td>own</td>\n",
       "      <td>little</td>\n",
       "      <td>little</td>\n",
       "      <td>2996</td>\n",
       "      <td>24</td>\n",
       "      <td>1</td>\n",
       "      <td>furniture/equipment</td>\n",
       "    </tr>\n",
       "    <tr>\n",
       "      <th>464</th>\n",
       "      <td>34</td>\n",
       "      <td>male</td>\n",
       "      <td>skilled</td>\n",
       "      <td>own</td>\n",
       "      <td>little</td>\n",
       "      <td>little</td>\n",
       "      <td>1950</td>\n",
       "      <td>18</td>\n",
       "      <td>0</td>\n",
       "      <td>business</td>\n",
       "    </tr>\n",
       "  </tbody>\n",
       "</table>\n",
       "</div>"
      ],
      "text/plain": [
       "     Age     Sex             Job Housing Saving accounts Checking account  \\\n",
       "19    31    male         skilled     own      quite rich         moderate   \n",
       "176   42    male         skilled     own          little           little   \n",
       "418   31  female  highly skilled     own      quite rich         moderate   \n",
       "335   44    male  highly skilled    rent          little           little   \n",
       "533   26    male         skilled     own        moderate         moderate   \n",
       "859   26    male         skilled    rent        moderate         moderate   \n",
       "680   56  female         skilled     own          little           little   \n",
       "357   26    male  highly skilled     own          little           little   \n",
       "495   20    male         skilled     own          little           little   \n",
       "464   34    male         skilled     own          little           little   \n",
       "\n",
       "     Credit amount  Duration  Risk              Purpose  \n",
       "19            3430        24     0             radio/TV  \n",
       "176           2577        12     0  furniture/equipment  \n",
       "418           2782        21     0                  car  \n",
       "335           3384         6     1  furniture/equipment  \n",
       "533           1311        24     0             radio/TV  \n",
       "859           3577         9     0                  car  \n",
       "680           1538         6     0            education  \n",
       "357           4463        36     1             radio/TV  \n",
       "495           2996        24     1  furniture/equipment  \n",
       "464           1950        18     0             business  "
      ]
     },
     "execution_count": 104,
     "metadata": {},
     "output_type": "execute_result"
    }
   ],
   "source": [
    "df.sample(10)"
   ]
  },
  {
   "cell_type": "markdown",
   "id": "67519c9b-678f-41f3-af9a-8bd8d4876fd4",
   "metadata": {},
   "source": [
    "- most age range in this data is between 20 to 45\n",
    "- There are more males in this dataset than females\n",
    "- There are more skilled persons in the job category\n",
    "- Mos people own houses in this dataset\n",
    "- Most people fall under the little category in thier savings account\n",
    "- most people fall under the little category in thir checking account\n",
    "- The highest duration for which credit is give is 48 months\n",
    "- Most people in thiss dataset are not credit defaulters\n",
    "- The purpose of requesting for loan for most people in this dataset is for radio/Tv"
   ]
  },
  {
   "cell_type": "markdown",
   "id": "82e1995c-8609-4190-92f4-fcefe898a645",
   "metadata": {},
   "source": [
    "## DATA OVERVIEW"
   ]
  },
  {
   "cell_type": "code",
   "execution_count": 105,
   "id": "86814ada-204a-4781-ba44-5ebf01e32a30",
   "metadata": {},
   "outputs": [
    {
     "data": {
      "text/plain": [
       "(1000, 10)"
      ]
     },
     "execution_count": 105,
     "metadata": {},
     "output_type": "execute_result"
    }
   ],
   "source": [
    "df.shape"
   ]
  },
  {
   "cell_type": "markdown",
   "id": "41e632f4-0b20-4d7e-96ec-da3182db79c1",
   "metadata": {},
   "source": [
    "- There are 1000 rows, and 10 columns in this dataset"
   ]
  },
  {
   "cell_type": "code",
   "execution_count": 106,
   "id": "67c119bb-74e6-44e1-877c-a8cd582b369e",
   "metadata": {},
   "outputs": [
    {
     "data": {
      "text/plain": [
       "Age                  int64\n",
       "Sex                 object\n",
       "Job                 object\n",
       "Housing             object\n",
       "Saving accounts     object\n",
       "Checking account    object\n",
       "Credit amount        int64\n",
       "Duration             int64\n",
       "Risk                 int64\n",
       "Purpose             object\n",
       "dtype: object"
      ]
     },
     "execution_count": 106,
     "metadata": {},
     "output_type": "execute_result"
    }
   ],
   "source": [
    "df.dtypes"
   ]
  },
  {
   "cell_type": "code",
   "execution_count": 107,
   "id": "82008848-411f-49ec-bc56-8bf820a5eb8e",
   "metadata": {},
   "outputs": [
    {
     "name": "stdout",
     "output_type": "stream",
     "text": [
      "<class 'pandas.core.frame.DataFrame'>\n",
      "RangeIndex: 1000 entries, 0 to 999\n",
      "Data columns (total 10 columns):\n",
      " #   Column            Non-Null Count  Dtype \n",
      "---  ------            --------------  ----- \n",
      " 0   Age               1000 non-null   int64 \n",
      " 1   Sex               1000 non-null   object\n",
      " 2   Job               1000 non-null   object\n",
      " 3   Housing           1000 non-null   object\n",
      " 4   Saving accounts   1000 non-null   object\n",
      " 5   Checking account  1000 non-null   object\n",
      " 6   Credit amount     1000 non-null   int64 \n",
      " 7   Duration          1000 non-null   int64 \n",
      " 8   Risk              1000 non-null   int64 \n",
      " 9   Purpose           1000 non-null   object\n",
      "dtypes: int64(4), object(6)\n",
      "memory usage: 78.3+ KB\n"
     ]
    }
   ],
   "source": [
    "df.info()"
   ]
  },
  {
   "cell_type": "markdown",
   "id": "d526a541-15be-4827-b09d-d6e7898d580c",
   "metadata": {},
   "source": [
    "- There are 4 integers, 6 objects and no float in this dataset\n"
   ]
  },
  {
   "cell_type": "code",
   "execution_count": 108,
   "id": "dad2630f-c7ef-47a9-ba3a-48c6bd3ad1fb",
   "metadata": {
    "scrolled": true
   },
   "outputs": [
    {
     "data": {
      "text/html": [
       "<div>\n",
       "<style scoped>\n",
       "    .dataframe tbody tr th:only-of-type {\n",
       "        vertical-align: middle;\n",
       "    }\n",
       "\n",
       "    .dataframe tbody tr th {\n",
       "        vertical-align: top;\n",
       "    }\n",
       "\n",
       "    .dataframe thead th {\n",
       "        text-align: right;\n",
       "    }\n",
       "</style>\n",
       "<table border=\"1\" class=\"dataframe\">\n",
       "  <thead>\n",
       "    <tr style=\"text-align: right;\">\n",
       "      <th></th>\n",
       "      <th>Age</th>\n",
       "      <th>Credit amount</th>\n",
       "      <th>Duration</th>\n",
       "      <th>Risk</th>\n",
       "    </tr>\n",
       "  </thead>\n",
       "  <tbody>\n",
       "    <tr>\n",
       "      <th>count</th>\n",
       "      <td>1000.000000</td>\n",
       "      <td>1000.000000</td>\n",
       "      <td>1000.000000</td>\n",
       "      <td>1000.000000</td>\n",
       "    </tr>\n",
       "    <tr>\n",
       "      <th>mean</th>\n",
       "      <td>35.546000</td>\n",
       "      <td>3271.258000</td>\n",
       "      <td>20.903000</td>\n",
       "      <td>0.300000</td>\n",
       "    </tr>\n",
       "    <tr>\n",
       "      <th>std</th>\n",
       "      <td>11.375469</td>\n",
       "      <td>2822.736876</td>\n",
       "      <td>12.058814</td>\n",
       "      <td>0.458487</td>\n",
       "    </tr>\n",
       "    <tr>\n",
       "      <th>min</th>\n",
       "      <td>19.000000</td>\n",
       "      <td>250.000000</td>\n",
       "      <td>4.000000</td>\n",
       "      <td>0.000000</td>\n",
       "    </tr>\n",
       "    <tr>\n",
       "      <th>25%</th>\n",
       "      <td>27.000000</td>\n",
       "      <td>1365.500000</td>\n",
       "      <td>12.000000</td>\n",
       "      <td>0.000000</td>\n",
       "    </tr>\n",
       "    <tr>\n",
       "      <th>50%</th>\n",
       "      <td>33.000000</td>\n",
       "      <td>2319.500000</td>\n",
       "      <td>18.000000</td>\n",
       "      <td>0.000000</td>\n",
       "    </tr>\n",
       "    <tr>\n",
       "      <th>75%</th>\n",
       "      <td>42.000000</td>\n",
       "      <td>3972.250000</td>\n",
       "      <td>24.000000</td>\n",
       "      <td>1.000000</td>\n",
       "    </tr>\n",
       "    <tr>\n",
       "      <th>max</th>\n",
       "      <td>75.000000</td>\n",
       "      <td>18424.000000</td>\n",
       "      <td>72.000000</td>\n",
       "      <td>1.000000</td>\n",
       "    </tr>\n",
       "  </tbody>\n",
       "</table>\n",
       "</div>"
      ],
      "text/plain": [
       "               Age  Credit amount     Duration         Risk\n",
       "count  1000.000000    1000.000000  1000.000000  1000.000000\n",
       "mean     35.546000    3271.258000    20.903000     0.300000\n",
       "std      11.375469    2822.736876    12.058814     0.458487\n",
       "min      19.000000     250.000000     4.000000     0.000000\n",
       "25%      27.000000    1365.500000    12.000000     0.000000\n",
       "50%      33.000000    2319.500000    18.000000     0.000000\n",
       "75%      42.000000    3972.250000    24.000000     1.000000\n",
       "max      75.000000   18424.000000    72.000000     1.000000"
      ]
     },
     "execution_count": 108,
     "metadata": {},
     "output_type": "execute_result"
    }
   ],
   "source": [
    "df.describe()"
   ]
  },
  {
   "cell_type": "markdown",
   "id": "b88f873b-0999-4759-b535-d947ff7b63c9",
   "metadata": {},
   "source": [
    "- The min age of people who request for loan is 19yrs and the maximum is 75 yrs and the average age of people who request for credit is 35.5 years. 50% of the people who request for loan is above 33 years and 50% is below 33 years\n",
    "- The maximun credit amount request is 18424 dm while the minnimum is 250 dm\n",
    "- 50% of people who request for credit requests above 2319 dm and 50% below 2319 dm\n",
    "- "
   ]
  },
  {
   "cell_type": "code",
   "execution_count": 109,
   "id": "dcd90f7c-bebf-4f75-b649-e1a954e1f193",
   "metadata": {},
   "outputs": [
    {
     "data": {
      "text/plain": [
       "Age                 0\n",
       "Sex                 0\n",
       "Job                 0\n",
       "Housing             0\n",
       "Saving accounts     0\n",
       "Checking account    0\n",
       "Credit amount       0\n",
       "Duration            0\n",
       "Risk                0\n",
       "Purpose             0\n",
       "dtype: int64"
      ]
     },
     "execution_count": 109,
     "metadata": {},
     "output_type": "execute_result"
    }
   ],
   "source": [
    "df.isnull().sum()"
   ]
  },
  {
   "cell_type": "markdown",
   "id": "0f32a687-7986-420e-a0b3-7c534b3d1f94",
   "metadata": {},
   "source": [
    "- There are no missing values in this dataset"
   ]
  },
  {
   "cell_type": "code",
   "execution_count": 110,
   "id": "72c50a3a-21e3-42e9-9740-18093e83a977",
   "metadata": {},
   "outputs": [
    {
     "data": {
      "text/plain": [
       "np.int64(0)"
      ]
     },
     "execution_count": 110,
     "metadata": {},
     "output_type": "execute_result"
    }
   ],
   "source": [
    "df.duplicated().sum()"
   ]
  },
  {
   "cell_type": "markdown",
   "id": "ac5b9ed6-249a-452b-81d9-62a73c9347a0",
   "metadata": {},
   "source": [
    "- There are no duplicates in this dataset"
   ]
  },
  {
   "cell_type": "code",
   "execution_count": 111,
   "id": "c9f35fcf-455d-4f8d-8e84-2b1772450fee",
   "metadata": {},
   "outputs": [
    {
     "data": {
      "text/plain": [
       "Age                  53\n",
       "Sex                   2\n",
       "Job                   3\n",
       "Housing               3\n",
       "Saving accounts       4\n",
       "Checking account      3\n",
       "Credit amount       921\n",
       "Duration             33\n",
       "Risk                  2\n",
       "Purpose               8\n",
       "dtype: int64"
      ]
     },
     "execution_count": 111,
     "metadata": {},
     "output_type": "execute_result"
    }
   ],
   "source": [
    "df.nunique()"
   ]
  },
  {
   "cell_type": "code",
   "execution_count": null,
   "id": "ba5481bc-e738-4687-b5cd-4d4f0db613d7",
   "metadata": {},
   "outputs": [],
   "source": []
  },
  {
   "cell_type": "markdown",
   "id": "5e476d1c-112b-4cec-8e4f-2098863b2547",
   "metadata": {},
   "source": [
    "- There are 7 categorical variables in this dataset"
   ]
  },
  {
   "cell_type": "markdown",
   "id": "c9b97549-6a3c-4dcf-b73f-c017b033a357",
   "metadata": {},
   "source": [
    "## EXPLORATORY DATA ANALYSIS(EDA)"
   ]
  },
  {
   "cell_type": "code",
   "execution_count": 112,
   "id": "c998779b-ff55-437c-b6b2-20d56420dd82",
   "metadata": {
    "scrolled": true
   },
   "outputs": [
    {
     "data": {
      "text/plain": [
       "['magma',\n",
       " 'inferno',\n",
       " 'plasma',\n",
       " 'viridis',\n",
       " 'cividis',\n",
       " 'twilight',\n",
       " 'twilight_shifted',\n",
       " 'turbo',\n",
       " 'berlin',\n",
       " 'managua',\n",
       " 'vanimo',\n",
       " 'Blues',\n",
       " 'BrBG',\n",
       " 'BuGn',\n",
       " 'BuPu',\n",
       " 'CMRmap',\n",
       " 'GnBu',\n",
       " 'Greens',\n",
       " 'Greys',\n",
       " 'OrRd',\n",
       " 'Oranges',\n",
       " 'PRGn',\n",
       " 'PiYG',\n",
       " 'PuBu',\n",
       " 'PuBuGn',\n",
       " 'PuOr',\n",
       " 'PuRd',\n",
       " 'Purples',\n",
       " 'RdBu',\n",
       " 'RdGy',\n",
       " 'RdPu',\n",
       " 'RdYlBu',\n",
       " 'RdYlGn',\n",
       " 'Reds',\n",
       " 'Spectral',\n",
       " 'Wistia',\n",
       " 'YlGn',\n",
       " 'YlGnBu',\n",
       " 'YlOrBr',\n",
       " 'YlOrRd',\n",
       " 'afmhot',\n",
       " 'autumn',\n",
       " 'binary',\n",
       " 'bone',\n",
       " 'brg',\n",
       " 'bwr',\n",
       " 'cool',\n",
       " 'coolwarm',\n",
       " 'copper',\n",
       " 'cubehelix',\n",
       " 'flag',\n",
       " 'gist_earth',\n",
       " 'gist_gray',\n",
       " 'gist_heat',\n",
       " 'gist_ncar',\n",
       " 'gist_rainbow',\n",
       " 'gist_stern',\n",
       " 'gist_yarg',\n",
       " 'gnuplot',\n",
       " 'gnuplot2',\n",
       " 'gray',\n",
       " 'hot',\n",
       " 'hsv',\n",
       " 'jet',\n",
       " 'nipy_spectral',\n",
       " 'ocean',\n",
       " 'pink',\n",
       " 'prism',\n",
       " 'rainbow',\n",
       " 'seismic',\n",
       " 'spring',\n",
       " 'summer',\n",
       " 'terrain',\n",
       " 'winter',\n",
       " 'Accent',\n",
       " 'Dark2',\n",
       " 'Paired',\n",
       " 'Pastel1',\n",
       " 'Pastel2',\n",
       " 'Set1',\n",
       " 'Set2',\n",
       " 'Set3',\n",
       " 'tab10',\n",
       " 'tab20',\n",
       " 'tab20b',\n",
       " 'tab20c',\n",
       " 'grey',\n",
       " 'gist_grey',\n",
       " 'gist_yerg',\n",
       " 'Grays',\n",
       " 'magma_r',\n",
       " 'inferno_r',\n",
       " 'plasma_r',\n",
       " 'viridis_r',\n",
       " 'cividis_r',\n",
       " 'twilight_r',\n",
       " 'twilight_shifted_r',\n",
       " 'turbo_r',\n",
       " 'berlin_r',\n",
       " 'managua_r',\n",
       " 'vanimo_r',\n",
       " 'Blues_r',\n",
       " 'BrBG_r',\n",
       " 'BuGn_r',\n",
       " 'BuPu_r',\n",
       " 'CMRmap_r',\n",
       " 'GnBu_r',\n",
       " 'Greens_r',\n",
       " 'Greys_r',\n",
       " 'OrRd_r',\n",
       " 'Oranges_r',\n",
       " 'PRGn_r',\n",
       " 'PiYG_r',\n",
       " 'PuBu_r',\n",
       " 'PuBuGn_r',\n",
       " 'PuOr_r',\n",
       " 'PuRd_r',\n",
       " 'Purples_r',\n",
       " 'RdBu_r',\n",
       " 'RdGy_r',\n",
       " 'RdPu_r',\n",
       " 'RdYlBu_r',\n",
       " 'RdYlGn_r',\n",
       " 'Reds_r',\n",
       " 'Spectral_r',\n",
       " 'Wistia_r',\n",
       " 'YlGn_r',\n",
       " 'YlGnBu_r',\n",
       " 'YlOrBr_r',\n",
       " 'YlOrRd_r',\n",
       " 'afmhot_r',\n",
       " 'autumn_r',\n",
       " 'binary_r',\n",
       " 'bone_r',\n",
       " 'brg_r',\n",
       " 'bwr_r',\n",
       " 'cool_r',\n",
       " 'coolwarm_r',\n",
       " 'copper_r',\n",
       " 'cubehelix_r',\n",
       " 'flag_r',\n",
       " 'gist_earth_r',\n",
       " 'gist_gray_r',\n",
       " 'gist_heat_r',\n",
       " 'gist_ncar_r',\n",
       " 'gist_rainbow_r',\n",
       " 'gist_stern_r',\n",
       " 'gist_yarg_r',\n",
       " 'gnuplot_r',\n",
       " 'gnuplot2_r',\n",
       " 'gray_r',\n",
       " 'hot_r',\n",
       " 'hsv_r',\n",
       " 'jet_r',\n",
       " 'nipy_spectral_r',\n",
       " 'ocean_r',\n",
       " 'pink_r',\n",
       " 'prism_r',\n",
       " 'rainbow_r',\n",
       " 'seismic_r',\n",
       " 'spring_r',\n",
       " 'summer_r',\n",
       " 'terrain_r',\n",
       " 'winter_r',\n",
       " 'Accent_r',\n",
       " 'Dark2_r',\n",
       " 'Paired_r',\n",
       " 'Pastel1_r',\n",
       " 'Pastel2_r',\n",
       " 'Set1_r',\n",
       " 'Set2_r',\n",
       " 'Set3_r',\n",
       " 'tab10_r',\n",
       " 'tab20_r',\n",
       " 'tab20b_r',\n",
       " 'tab20c_r',\n",
       " 'grey_r',\n",
       " 'gist_grey_r',\n",
       " 'gist_yerg_r',\n",
       " 'Grays_r',\n",
       " 'rocket',\n",
       " 'rocket_r',\n",
       " 'mako',\n",
       " 'mako_r',\n",
       " 'icefire',\n",
       " 'icefire_r',\n",
       " 'vlag',\n",
       " 'vlag_r',\n",
       " 'flare',\n",
       " 'flare_r',\n",
       " 'crest',\n",
       " 'crest_r']"
      ]
     },
     "execution_count": 112,
     "metadata": {},
     "output_type": "execute_result"
    }
   ],
   "source": [
    "from matplotlib import colormaps\n",
    "list(colormaps)"
   ]
  },
  {
   "cell_type": "markdown",
   "id": "c29c8120-5067-47b3-83eb-23d4ad1fede0",
   "metadata": {},
   "source": [
    "#### UNIVARIATE ANALYSIS"
   ]
  },
  {
   "cell_type": "code",
   "execution_count": 113,
   "id": "2a9cff72-57e2-4a72-baf9-829aa2661f62",
   "metadata": {},
   "outputs": [],
   "source": [
    "# Define function\n",
    "def uni_continous(data, feature):\n",
    "    sns.histplot(data=data,x=feature,kde=True)\n",
    "    plt.xticks(rotation=90,ha=(\"right\"))\n",
    "    plt.show()\n",
    "    sns.boxplot(data=data,x=feature)\n",
    "\n",
    "def uni_categorical(data,feature):\n",
    "    sns.countplot(data=data,x=feature, palette = 'Greys')\n",
    "    plt.xticks(rotation=90,ha=\"right\")"
   ]
  },
  {
   "cell_type": "code",
   "execution_count": 114,
   "id": "65b6b857-4cc9-48c8-a409-60a9f188c961",
   "metadata": {},
   "outputs": [
    {
     "data": {
      "text/html": [
       "<div>\n",
       "<style scoped>\n",
       "    .dataframe tbody tr th:only-of-type {\n",
       "        vertical-align: middle;\n",
       "    }\n",
       "\n",
       "    .dataframe tbody tr th {\n",
       "        vertical-align: top;\n",
       "    }\n",
       "\n",
       "    .dataframe thead th {\n",
       "        text-align: right;\n",
       "    }\n",
       "</style>\n",
       "<table border=\"1\" class=\"dataframe\">\n",
       "  <thead>\n",
       "    <tr style=\"text-align: right;\">\n",
       "      <th></th>\n",
       "      <th>Age</th>\n",
       "      <th>Sex</th>\n",
       "      <th>Job</th>\n",
       "      <th>Housing</th>\n",
       "      <th>Saving accounts</th>\n",
       "      <th>Checking account</th>\n",
       "      <th>Credit amount</th>\n",
       "      <th>Duration</th>\n",
       "      <th>Risk</th>\n",
       "      <th>Purpose</th>\n",
       "    </tr>\n",
       "  </thead>\n",
       "  <tbody>\n",
       "    <tr>\n",
       "      <th>296</th>\n",
       "      <td>20</td>\n",
       "      <td>female</td>\n",
       "      <td>skilled</td>\n",
       "      <td>rent</td>\n",
       "      <td>little</td>\n",
       "      <td>moderate</td>\n",
       "      <td>4675</td>\n",
       "      <td>12</td>\n",
       "      <td>0</td>\n",
       "      <td>car</td>\n",
       "    </tr>\n",
       "  </tbody>\n",
       "</table>\n",
       "</div>"
      ],
      "text/plain": [
       "     Age     Sex      Job Housing Saving accounts Checking account  \\\n",
       "296   20  female  skilled    rent          little         moderate   \n",
       "\n",
       "     Credit amount  Duration  Risk Purpose  \n",
       "296           4675        12     0     car  "
      ]
     },
     "execution_count": 114,
     "metadata": {},
     "output_type": "execute_result"
    }
   ],
   "source": [
    "df.sample()"
   ]
  },
  {
   "cell_type": "code",
   "execution_count": 115,
   "id": "c1835bbf-d8a0-4a93-baab-230a6084c56e",
   "metadata": {},
   "outputs": [
    {
     "data": {
      "image/png": "[encoded data removed]",
      "text/plain": [
       "<Figure size 640x480 with 1 Axes>"
      ]
     },
     "metadata": {},
     "output_type": "display_data"
    },
    {
     "data": {
      "image/png": "[encoded data removed]",
      "text/plain": [
       "<Figure size 640x480 with 1 Axes>"
      ]
     },
     "metadata": {},
     "output_type": "display_data"
    }
   ],
   "source": [
    "uni_continous(df,\"Age\")"
   ]
  },
  {
   "cell_type": "markdown",
   "id": "d5751b88-edb2-42c0-b5b3-32f16ceadf10",
   "metadata": {},
   "source": [
    "- This is a rightly skwed data\n",
    "- Most people that takes credit from the bank fall between 20 - 50 years of age\n",
    "- There are outliersin this data"
   ]
  },
  {
   "cell_type": "code",
   "execution_count": 116,
   "id": "dcf06724-3b7f-41cd-9c0d-cb7bacd46cfd",
   "metadata": {},
   "outputs": [
    {
     "data": {
      "image/png": "[encoded data removed]",
      "text/plain": [
       "<Figure size 640x480 with 1 Axes>"
      ]
     },
     "metadata": {},
     "output_type": "display_data"
    },
    {
     "data": {
      "image/png": "[encoded data removed]",
      "text/plain": [
       "<Figure size 640x480 with 1 Axes>"
      ]
     },
     "metadata": {},
     "output_type": "display_data"
    }
   ],
   "source": [
    "uni_continous(df,\"Credit amount\")"
   ]
  },
  {
   "cell_type": "markdown",
   "id": "db2e5221-c634-4fdc-a6d2-a3fad28dae63",
   "metadata": {},
   "source": [
    "- This data is rightly skewed\n",
    "- Most people request for credit between 1000 to 7500 DM\n",
    "- There are outliers in this dataset"
   ]
  },
  {
   "cell_type": "code",
   "execution_count": 117,
   "id": "daa99aa7-aba7-4110-9fd9-a5d6f7084433",
   "metadata": {},
   "outputs": [
    {
     "data": {
      "image/png": "[encoded data removed]",
      "text/plain": [
       "<Figure size 640x480 with 1 Axes>"
      ]
     },
     "metadata": {},
     "output_type": "display_data"
    },
    {
     "data": {
      "image/png": "[encoded data removed]",
      "text/plain": [
       "<Figure size 640x480 with 1 Axes>"
      ]
     },
     "metadata": {},
     "output_type": "display_data"
    }
   ],
   "source": [
    "uni_continous(df,\"Duration\")"
   ]
  },
  {
   "cell_type": "markdown",
   "id": "49c707d1-5b28-4bff-b7ea-83bcbf633cbe",
   "metadata": {},
   "source": [
    "- This data is rightly skewed\n",
    "- They ae outliers in the dataset\n",
    "- Most credit duration is between 5 to 40 months"
   ]
  },
  {
   "cell_type": "code",
   "execution_count": 118,
   "id": "7bffac14-498d-4167-a483-e25bf7105f19",
   "metadata": {},
   "outputs": [
    {
     "data": {
      "text/plain": [
       "Duration\n",
       "24    184\n",
       "12    179\n",
       "18    113\n",
       "36     83\n",
       "6      75\n",
       "15     64\n",
       "9      49\n",
       "48     48\n",
       "30     40\n",
       "21     30\n",
       "10     28\n",
       "27     13\n",
       "60     13\n",
       "42     11\n",
       "11      9\n",
       "20      8\n",
       "8       7\n",
       "4       6\n",
       "7       5\n",
       "45      5\n",
       "39      5\n",
       "13      4\n",
       "14      4\n",
       "33      3\n",
       "28      3\n",
       "54      2\n",
       "16      2\n",
       "22      2\n",
       "47      1\n",
       "5       1\n",
       "26      1\n",
       "72      1\n",
       "40      1\n",
       "Name: count, dtype: int64"
      ]
     },
     "execution_count": 118,
     "metadata": {},
     "output_type": "execute_result"
    }
   ],
   "source": [
    "df[\"Duration\"].value_counts()"
   ]
  },
  {
   "cell_type": "code",
   "execution_count": 119,
   "id": "a1302d2e-adba-4f1e-9b6e-212aecfea0de",
   "metadata": {},
   "outputs": [
    {
     "data": {
      "text/html": [
       "<div>\n",
       "<style scoped>\n",
       "    .dataframe tbody tr th:only-of-type {\n",
       "        vertical-align: middle;\n",
       "    }\n",
       "\n",
       "    .dataframe tbody tr th {\n",
       "        vertical-align: top;\n",
       "    }\n",
       "\n",
       "    .dataframe thead th {\n",
       "        text-align: right;\n",
       "    }\n",
       "</style>\n",
       "<table border=\"1\" class=\"dataframe\">\n",
       "  <thead>\n",
       "    <tr style=\"text-align: right;\">\n",
       "      <th></th>\n",
       "      <th>Age</th>\n",
       "      <th>Sex</th>\n",
       "      <th>Job</th>\n",
       "      <th>Housing</th>\n",
       "      <th>Saving accounts</th>\n",
       "      <th>Checking account</th>\n",
       "      <th>Credit amount</th>\n",
       "      <th>Duration</th>\n",
       "      <th>Risk</th>\n",
       "      <th>Purpose</th>\n",
       "    </tr>\n",
       "  </thead>\n",
       "  <tbody>\n",
       "    <tr>\n",
       "      <th>475</th>\n",
       "      <td>26</td>\n",
       "      <td>female</td>\n",
       "      <td>skilled</td>\n",
       "      <td>rent</td>\n",
       "      <td>little</td>\n",
       "      <td>little</td>\n",
       "      <td>3114</td>\n",
       "      <td>18</td>\n",
       "      <td>1</td>\n",
       "      <td>furniture/equipment</td>\n",
       "    </tr>\n",
       "  </tbody>\n",
       "</table>\n",
       "</div>"
      ],
      "text/plain": [
       "     Age     Sex      Job Housing Saving accounts Checking account  \\\n",
       "475   26  female  skilled    rent          little           little   \n",
       "\n",
       "     Credit amount  Duration  Risk              Purpose  \n",
       "475           3114        18     1  furniture/equipment  "
      ]
     },
     "execution_count": 119,
     "metadata": {},
     "output_type": "execute_result"
    }
   ],
   "source": [
    "df.sample()"
   ]
  },
  {
   "cell_type": "code",
   "execution_count": 120,
   "id": "592ee085-6bc0-4175-bbc7-22d531e59c5c",
   "metadata": {},
   "outputs": [
    {
     "name": "stderr",
     "output_type": "stream",
     "text": [
      "C:\\Users\\USER\\AppData\\Local\\Temp\\ipykernel_12580\\1974795252.py:9: FutureWarning: \n",
      "\n",
      "Passing `palette` without assigning `hue` is deprecated and will be removed in v0.14.0. Assign the `x` variable to `hue` and set `legend=False` for the same effect.\n",
      "\n",
      "  sns.countplot(data=data,x=feature, palette = 'Greys')\n"
     ]
    },
    {
     "data": {
      "image/png": "[encoded data removed]",
      "text/plain": [
       "<Figure size 640x480 with 1 Axes>"
      ]
     },
     "metadata": {},
     "output_type": "display_data"
    }
   ],
   "source": [
    "uni_categorical(df,\"Sex\")"
   ]
  },
  {
   "cell_type": "markdown",
   "id": "3f4bff30-2b8b-4b2f-81fe-32b1634d5bd0",
   "metadata": {},
   "source": [
    "- Most males request for credits than females"
   ]
  },
  {
   "cell_type": "code",
   "execution_count": 121,
   "id": "18ca7ff7-b231-4267-9d5a-bd7826a3a381",
   "metadata": {},
   "outputs": [
    {
     "name": "stderr",
     "output_type": "stream",
     "text": [
      "C:\\Users\\USER\\AppData\\Local\\Temp\\ipykernel_12580\\1974795252.py:9: FutureWarning: \n",
      "\n",
      "Passing `palette` without assigning `hue` is deprecated and will be removed in v0.14.0. Assign the `x` variable to `hue` and set `legend=False` for the same effect.\n",
      "\n",
      "  sns.countplot(data=data,x=feature, palette = 'Greys')\n"
     ]
    },
    {
     "data": {
      "image/png": "[encoded data removed]",
      "text/plain": [
       "<Figure size 640x480 with 1 Axes>"
      ]
     },
     "metadata": {},
     "output_type": "display_data"
    }
   ],
   "source": [
    "uni_categorical(df,\"Job\")"
   ]
  },
  {
   "cell_type": "markdown",
   "id": "709c8d9b-c08e-4627-b764-98028e2161a7",
   "metadata": {},
   "source": [
    "- Most people that request for credits are skilled people\n",
    "- People who are highly skilled, equest for credit the least"
   ]
  },
  {
   "cell_type": "code",
   "execution_count": 122,
   "id": "2f208ef5-d9f6-4010-894b-0ffa88111339",
   "metadata": {},
   "outputs": [
    {
     "name": "stderr",
     "output_type": "stream",
     "text": [
      "C:\\Users\\USER\\AppData\\Local\\Temp\\ipykernel_12580\\1974795252.py:9: FutureWarning: \n",
      "\n",
      "Passing `palette` without assigning `hue` is deprecated and will be removed in v0.14.0. Assign the `x` variable to `hue` and set `legend=False` for the same effect.\n",
      "\n",
      "  sns.countplot(data=data,x=feature, palette = 'Greys')\n"
     ]
    },
    {
     "data": {
      "image/png": "[encoded data removed]",
      "text/plain": [
       "<Figure size 640x480 with 1 Axes>"
      ]
     },
     "metadata": {},
     "output_type": "display_data"
    }
   ],
   "source": [
    "uni_categorical(df,\"Saving accounts\")"
   ]
  },
  {
   "cell_type": "markdown",
   "id": "0aeeffa6-953d-478f-ae50-cbfbf9b200c1",
   "metadata": {},
   "source": [
    "- People that fall under the little category of saving accounts, request for credits the most\n",
    "- People who are rich and moderately rich, request for credit the least"
   ]
  },
  {
   "cell_type": "code",
   "execution_count": 123,
   "id": "52c618c7-4ec2-416e-9334-f16beb93555c",
   "metadata": {},
   "outputs": [
    {
     "name": "stderr",
     "output_type": "stream",
     "text": [
      "C:\\Users\\USER\\AppData\\Local\\Temp\\ipykernel_12580\\1974795252.py:9: FutureWarning: \n",
      "\n",
      "Passing `palette` without assigning `hue` is deprecated and will be removed in v0.14.0. Assign the `x` variable to `hue` and set `legend=False` for the same effect.\n",
      "\n",
      "  sns.countplot(data=data,x=feature, palette = 'Greys')\n"
     ]
    },
    {
     "data": {
      "image/png": "[encoded data removed]",
      "text/plain": [
       "<Figure size 640x480 with 1 Axes>"
      ]
     },
     "metadata": {},
     "output_type": "display_data"
    }
   ],
   "source": [
    "uni_categorical(df,\"Checking account\")"
   ]
  },
  {
   "cell_type": "markdown",
   "id": "2d8a67d7-dd56-4f21-bfa1-43aa52cf34e5",
   "metadata": {},
   "source": [
    "- People with little and moderate checking account, takes credit the most\n",
    "- People with rich checking account rarely request for credits"
   ]
  },
  {
   "cell_type": "code",
   "execution_count": 124,
   "id": "991a80ce-6284-437c-9be7-eb70098de30e",
   "metadata": {},
   "outputs": [
    {
     "name": "stderr",
     "output_type": "stream",
     "text": [
      "C:\\Users\\USER\\AppData\\Local\\Temp\\ipykernel_12580\\1974795252.py:9: FutureWarning: \n",
      "\n",
      "Passing `palette` without assigning `hue` is deprecated and will be removed in v0.14.0. Assign the `x` variable to `hue` and set `legend=False` for the same effect.\n",
      "\n",
      "  sns.countplot(data=data,x=feature, palette = 'Greys')\n"
     ]
    },
    {
     "data": {
      "image/png": "[encoded data removed]",
      "text/plain": [
       "<Figure size 640x480 with 1 Axes>"
      ]
     },
     "metadata": {},
     "output_type": "display_data"
    }
   ],
   "source": [
    "uni_categorical(df,\"Risk\")"
   ]
  },
  {
   "cell_type": "markdown",
   "id": "07033b66-a746-4f14-a922-342172561220",
   "metadata": {},
   "source": [
    "- Most people that takes credits are not at risk of being credit defaulters"
   ]
  },
  {
   "cell_type": "code",
   "execution_count": 125,
   "id": "de8a443f-ba0a-429d-942d-92ba7c2dc568",
   "metadata": {},
   "outputs": [
    {
     "name": "stderr",
     "output_type": "stream",
     "text": [
      "C:\\Users\\USER\\AppData\\Local\\Temp\\ipykernel_12580\\1974795252.py:9: FutureWarning: \n",
      "\n",
      "Passing `palette` without assigning `hue` is deprecated and will be removed in v0.14.0. Assign the `x` variable to `hue` and set `legend=False` for the same effect.\n",
      "\n",
      "  sns.countplot(data=data,x=feature, palette = 'Greys')\n"
     ]
    },
    {
     "data": {
      "image/png": "[encoded data removed]",
      "text/plain": [
       "<Figure size 640x480 with 1 Axes>"
      ]
     },
     "metadata": {},
     "output_type": "display_data"
    }
   ],
   "source": [
    "uni_categorical(df,\"Purpose\")"
   ]
  },
  {
   "cell_type": "markdown",
   "id": "06391b16-b6b1-4bd7-901a-da3c89c44abc",
   "metadata": {},
   "source": [
    "- RadioTV, Furniture/Equipment,Car are the most common reasons people request for credit\n",
    "- People with the purpose of getting domestic appliances repars, vacation/others, request for credit the least"
   ]
  },
  {
   "cell_type": "markdown",
   "id": "90c6eb24-e316-4e44-b544-d92262fc0fd3",
   "metadata": {},
   "source": [
    "#### BIVARIATE ANALYSIS"
   ]
  },
  {
   "cell_type": "code",
   "execution_count": 126,
   "id": "8baeec19-3915-4022-b14d-71977eabeffc",
   "metadata": {},
   "outputs": [],
   "source": [
    "# define functions for bivariate analysis\n",
    "def bi_count(data, feature, target):\n",
    "    sns.countplot(data=data,x=feature,hue=target,palette= \"Greys\")\n",
    "    plt.xticks(rotation = 90, ha=\"right\")\n",
    "    plt.show()\n",
    "\n",
    "def bi_bar(data,feature,target):\n",
    "    sns.barplot(data= data,x= feature, y=target,palette=\"Greys\")\n",
    "\n",
    "def bi_scatter(data,feature,target):\n",
    "    sns.scatterplot(data=data,x=feature,y=target)\n",
    "\n",
    "def bi_line(data,feature,target):\n",
    "    sns.lineplot(data=data,x=feature,y=target,errorbar= None)"
   ]
  },
  {
   "cell_type": "code",
   "execution_count": 127,
   "id": "10a3a901-5781-46fb-a973-0d484a29127f",
   "metadata": {},
   "outputs": [
    {
     "data": {
      "text/html": [
       "<div>\n",
       "<style scoped>\n",
       "    .dataframe tbody tr th:only-of-type {\n",
       "        vertical-align: middle;\n",
       "    }\n",
       "\n",
       "    .dataframe tbody tr th {\n",
       "        vertical-align: top;\n",
       "    }\n",
       "\n",
       "    .dataframe thead th {\n",
       "        text-align: right;\n",
       "    }\n",
       "</style>\n",
       "<table border=\"1\" class=\"dataframe\">\n",
       "  <thead>\n",
       "    <tr style=\"text-align: right;\">\n",
       "      <th></th>\n",
       "      <th>Age</th>\n",
       "      <th>Sex</th>\n",
       "      <th>Job</th>\n",
       "      <th>Housing</th>\n",
       "      <th>Saving accounts</th>\n",
       "      <th>Checking account</th>\n",
       "      <th>Credit amount</th>\n",
       "      <th>Duration</th>\n",
       "      <th>Risk</th>\n",
       "      <th>Purpose</th>\n",
       "    </tr>\n",
       "  </thead>\n",
       "  <tbody>\n",
       "    <tr>\n",
       "      <th>152</th>\n",
       "      <td>24</td>\n",
       "      <td>male</td>\n",
       "      <td>skilled</td>\n",
       "      <td>own</td>\n",
       "      <td>little</td>\n",
       "      <td>rich</td>\n",
       "      <td>5848</td>\n",
       "      <td>36</td>\n",
       "      <td>0</td>\n",
       "      <td>radio/TV</td>\n",
       "    </tr>\n",
       "  </tbody>\n",
       "</table>\n",
       "</div>"
      ],
      "text/plain": [
       "     Age   Sex      Job Housing Saving accounts Checking account  \\\n",
       "152   24  male  skilled     own          little             rich   \n",
       "\n",
       "     Credit amount  Duration  Risk   Purpose  \n",
       "152           5848        36     0  radio/TV  "
      ]
     },
     "execution_count": 127,
     "metadata": {},
     "output_type": "execute_result"
    }
   ],
   "source": [
    "df.sample()"
   ]
  },
  {
   "cell_type": "code",
   "execution_count": 128,
   "id": "e4a730d9-6cb5-4f4e-9920-8eac8714eee0",
   "metadata": {},
   "outputs": [
    {
     "name": "stderr",
     "output_type": "stream",
     "text": [
      "C:\\Users\\USER\\AppData\\Local\\Temp\\ipykernel_12580\\2250262895.py:8: FutureWarning: \n",
      "\n",
      "Passing `palette` without assigning `hue` is deprecated and will be removed in v0.14.0. Assign the `x` variable to `hue` and set `legend=False` for the same effect.\n",
      "\n",
      "  sns.barplot(data= data,x= feature, y=target,palette=\"Greys\")\n"
     ]
    },
    {
     "data": {
      "image/png": "[encoded data removed]",
      "text/plain": [
       "<Figure size 640x480 with 1 Axes>"
      ]
     },
     "metadata": {},
     "output_type": "display_data"
    }
   ],
   "source": [
    "bi_bar(df,\"Sex\",\"Age\")"
   ]
  },
  {
   "cell_type": "code",
   "execution_count": 129,
   "id": "d8f3315d-18ec-49a9-a17f-73ea9f421412",
   "metadata": {},
   "outputs": [
    {
     "data": {
      "text/plain": [
       "Sex\n",
       "female    32.803226\n",
       "male      36.778261\n",
       "Name: Age, dtype: float64"
      ]
     },
     "execution_count": 129,
     "metadata": {},
     "output_type": "execute_result"
    }
   ],
   "source": [
    "df.groupby(\"Sex\")[\"Age\"].mean()"
   ]
  },
  {
   "cell_type": "markdown",
   "id": "c8568555-5092-46c8-a5a9-603aa07671fc",
   "metadata": {},
   "source": [
    "-The average age of men that taakes credit is 37 while for women is 33 years"
   ]
  },
  {
   "cell_type": "code",
   "execution_count": 130,
   "id": "cba57ce2-8858-481f-ad40-154b374d7532",
   "metadata": {},
   "outputs": [
    {
     "data": {
      "image/png": "[encoded data removed]",
      "text/plain": [
       "<Figure size 640x480 with 1 Axes>"
      ]
     },
     "metadata": {},
     "output_type": "display_data"
    }
   ],
   "source": [
    "bi_count(df,\"Sex\",\"Risk\")"
   ]
  },
  {
   "cell_type": "markdown",
   "id": "70fa4f9e-c2d4-42fc-bf96-84b0e8f87914",
   "metadata": {},
   "source": [
    "- Across all categories, Most people that take credit are people considered not at risk of being defaulters\n",
    "- More males that take credit are not at risk of being defaulters as compared to women"
   ]
  },
  {
   "cell_type": "code",
   "execution_count": 131,
   "id": "1fc049de-bc42-4336-bc41-120c7a926f29",
   "metadata": {},
   "outputs": [
    {
     "data": {
      "text/html": [
       "<div>\n",
       "<style scoped>\n",
       "    .dataframe tbody tr th:only-of-type {\n",
       "        vertical-align: middle;\n",
       "    }\n",
       "\n",
       "    .dataframe tbody tr th {\n",
       "        vertical-align: top;\n",
       "    }\n",
       "\n",
       "    .dataframe thead th {\n",
       "        text-align: right;\n",
       "    }\n",
       "</style>\n",
       "<table border=\"1\" class=\"dataframe\">\n",
       "  <thead>\n",
       "    <tr style=\"text-align: right;\">\n",
       "      <th></th>\n",
       "      <th>Age</th>\n",
       "      <th>Sex</th>\n",
       "      <th>Job</th>\n",
       "      <th>Housing</th>\n",
       "      <th>Saving accounts</th>\n",
       "      <th>Checking account</th>\n",
       "      <th>Credit amount</th>\n",
       "      <th>Duration</th>\n",
       "      <th>Risk</th>\n",
       "      <th>Purpose</th>\n",
       "    </tr>\n",
       "  </thead>\n",
       "  <tbody>\n",
       "    <tr>\n",
       "      <th>6</th>\n",
       "      <td>53</td>\n",
       "      <td>male</td>\n",
       "      <td>skilled</td>\n",
       "      <td>own</td>\n",
       "      <td>quite rich</td>\n",
       "      <td>moderate</td>\n",
       "      <td>2835</td>\n",
       "      <td>24</td>\n",
       "      <td>0</td>\n",
       "      <td>furniture/equipment</td>\n",
       "    </tr>\n",
       "  </tbody>\n",
       "</table>\n",
       "</div>"
      ],
      "text/plain": [
       "   Age   Sex      Job Housing Saving accounts Checking account  Credit amount  \\\n",
       "6   53  male  skilled     own      quite rich         moderate           2835   \n",
       "\n",
       "   Duration  Risk              Purpose  \n",
       "6        24     0  furniture/equipment  "
      ]
     },
     "execution_count": 131,
     "metadata": {},
     "output_type": "execute_result"
    }
   ],
   "source": [
    "df.sample()"
   ]
  },
  {
   "cell_type": "code",
   "execution_count": 132,
   "id": "fecd07e6-816f-48d1-8926-23b6a233150d",
   "metadata": {
    "scrolled": true
   },
   "outputs": [
    {
     "data": {
      "image/png": "[encoded data removed]",
      "text/plain": [
       "<Figure size 640x480 with 1 Axes>"
      ]
     },
     "metadata": {},
     "output_type": "display_data"
    }
   ],
   "source": [
    "bi_count(df,\"Job\",\"Risk\")"
   ]
  },
  {
   "cell_type": "markdown",
   "id": "00ddc592-a9eb-46bf-aa18-b019020ea5e0",
   "metadata": {},
   "source": [
    "- Across all categories, people who take credit are people who are not at risk of being credit defaulters\n",
    "- most of the people who are not at risk of being credit defaulters, are skilled people\n",
    "- Highly skilled people are considered to be most at risj of being credit defaulters"
   ]
  },
  {
   "cell_type": "code",
   "execution_count": 133,
   "id": "2e010358-0928-4b31-9630-8b9ae09a6d7d",
   "metadata": {},
   "outputs": [
    {
     "data": {
      "image/png": "[encoded data removed]",
      "text/plain": [
       "<Figure size 640x480 with 1 Axes>"
      ]
     },
     "metadata": {},
     "output_type": "display_data"
    }
   ],
   "source": [
    "bi_count(df,\"Housing\",\"Risk\")"
   ]
  },
  {
   "cell_type": "markdown",
   "id": "a7c8c168-06ac-4c4a-9bb1-3bcb6749a16c",
   "metadata": {},
   "source": [
    "- Across all categories, peoplw who are not at risk of being credit defaulters are more than the ones at risk\n",
    "- people who are house owners are more likely to not be at rish of being credit defaulters\n",
    "- people who stay in free housing are the most at rish in being credit defaulters"
   ]
  },
  {
   "cell_type": "code",
   "execution_count": 134,
   "id": "58c57520-e441-4551-b1ca-d8b5e6531899",
   "metadata": {},
   "outputs": [
    {
     "data": {
      "image/png": "[encoded data removed]",
      "text/plain": [
       "<Figure size 640x480 with 1 Axes>"
      ]
     },
     "metadata": {},
     "output_type": "display_data"
    }
   ],
   "source": [
    "bi_count(df,\"Saving accounts\",\"Risk\")"
   ]
  },
  {
   "cell_type": "markdown",
   "id": "e99d6650-e201-421e-9b9e-76155fff6efa",
   "metadata": {},
   "source": [
    "Across all categories, peoplw who are not at risk of being credit defaulters are more than the ones at risk\n"
   ]
  },
  {
   "cell_type": "code",
   "execution_count": 135,
   "id": "2d28436d-574d-4350-affd-f8319bae98fa",
   "metadata": {},
   "outputs": [
    {
     "data": {
      "image/png": "[encoded data removed]",
      "text/plain": [
       "<Figure size 640x480 with 1 Axes>"
      ]
     },
     "metadata": {},
     "output_type": "display_data"
    }
   ],
   "source": [
    "bi_count(df,\"Checking account\",\"Risk\")"
   ]
  },
  {
   "cell_type": "code",
   "execution_count": 136,
   "id": "2316d9a7-3a1d-446b-8d78-cdd2593f1139",
   "metadata": {},
   "outputs": [
    {
     "data": {
      "image/png": "[encoded data removed]",
      "text/plain": [
       "<Figure size 640x480 with 1 Axes>"
      ]
     },
     "metadata": {},
     "output_type": "display_data"
    }
   ],
   "source": [
    "bi_count(df,\"Purpose\",\"Risk\")"
   ]
  },
  {
   "cell_type": "code",
   "execution_count": 137,
   "id": "036095b7-a2d8-4085-9c4c-4702cd1a0ffd",
   "metadata": {},
   "outputs": [
    {
     "data": {
      "text/html": [
       "<div>\n",
       "<style scoped>\n",
       "    .dataframe tbody tr th:only-of-type {\n",
       "        vertical-align: middle;\n",
       "    }\n",
       "\n",
       "    .dataframe tbody tr th {\n",
       "        vertical-align: top;\n",
       "    }\n",
       "\n",
       "    .dataframe thead th {\n",
       "        text-align: right;\n",
       "    }\n",
       "</style>\n",
       "<table border=\"1\" class=\"dataframe\">\n",
       "  <thead>\n",
       "    <tr style=\"text-align: right;\">\n",
       "      <th></th>\n",
       "      <th>Age</th>\n",
       "      <th>Sex</th>\n",
       "      <th>Job</th>\n",
       "      <th>Housing</th>\n",
       "      <th>Saving accounts</th>\n",
       "      <th>Checking account</th>\n",
       "      <th>Credit amount</th>\n",
       "      <th>Duration</th>\n",
       "      <th>Risk</th>\n",
       "      <th>Purpose</th>\n",
       "    </tr>\n",
       "  </thead>\n",
       "  <tbody>\n",
       "    <tr>\n",
       "      <th>812</th>\n",
       "      <td>24</td>\n",
       "      <td>male</td>\n",
       "      <td>skilled</td>\n",
       "      <td>own</td>\n",
       "      <td>little</td>\n",
       "      <td>little</td>\n",
       "      <td>9629</td>\n",
       "      <td>36</td>\n",
       "      <td>1</td>\n",
       "      <td>car</td>\n",
       "    </tr>\n",
       "  </tbody>\n",
       "</table>\n",
       "</div>"
      ],
      "text/plain": [
       "     Age   Sex      Job Housing Saving accounts Checking account  \\\n",
       "812   24  male  skilled     own          little           little   \n",
       "\n",
       "     Credit amount  Duration  Risk Purpose  \n",
       "812           9629        36     1     car  "
      ]
     },
     "execution_count": 137,
     "metadata": {},
     "output_type": "execute_result"
    }
   ],
   "source": [
    "df.sample()"
   ]
  },
  {
   "cell_type": "code",
   "execution_count": 138,
   "id": "34d90374-f729-47b0-b853-bb681c3b2a0b",
   "metadata": {},
   "outputs": [
    {
     "name": "stderr",
     "output_type": "stream",
     "text": [
      "C:\\Users\\USER\\AppData\\Local\\Temp\\ipykernel_12580\\2250262895.py:8: FutureWarning: \n",
      "\n",
      "Passing `palette` without assigning `hue` is deprecated and will be removed in v0.14.0. Assign the `x` variable to `hue` and set `legend=False` for the same effect.\n",
      "\n",
      "  sns.barplot(data= data,x= feature, y=target,palette=\"Greys\")\n"
     ]
    },
    {
     "data": {
      "image/png": "[encoded data removed]",
      "text/plain": [
       "<Figure size 640x480 with 1 Axes>"
      ]
     },
     "metadata": {},
     "output_type": "display_data"
    }
   ],
   "source": [
    "bi_bar(df,\"Risk\",\"Age\")"
   ]
  },
  {
   "cell_type": "code",
   "execution_count": 139,
   "id": "29771cfe-dba7-45c2-8329-f69ad4e5514f",
   "metadata": {},
   "outputs": [
    {
     "name": "stderr",
     "output_type": "stream",
     "text": [
      "C:\\Users\\USER\\AppData\\Local\\Temp\\ipykernel_12580\\2250262895.py:8: FutureWarning: \n",
      "\n",
      "Passing `palette` without assigning `hue` is deprecated and will be removed in v0.14.0. Assign the `x` variable to `hue` and set `legend=False` for the same effect.\n",
      "\n",
      "  sns.barplot(data= data,x= feature, y=target,palette=\"Greys\")\n"
     ]
    },
    {
     "data": {
      "image/png": "[encoded data removed]",
      "text/plain": [
       "<Figure size 640x480 with 1 Axes>"
      ]
     },
     "metadata": {},
     "output_type": "display_data"
    }
   ],
   "source": [
    "bi_bar(df,\"Risk\",\"Credit amount\")"
   ]
  },
  {
   "cell_type": "code",
   "execution_count": 140,
   "id": "ffec973a-bc59-4965-bee4-c673fab6ebfd",
   "metadata": {},
   "outputs": [
    {
     "name": "stderr",
     "output_type": "stream",
     "text": [
      "C:\\Users\\USER\\AppData\\Local\\Temp\\ipykernel_12580\\2250262895.py:8: FutureWarning: \n",
      "\n",
      "Passing `palette` without assigning `hue` is deprecated and will be removed in v0.14.0. Assign the `x` variable to `hue` and set `legend=False` for the same effect.\n",
      "\n",
      "  sns.barplot(data= data,x= feature, y=target,palette=\"Greys\")\n"
     ]
    },
    {
     "data": {
      "image/png": "[encoded data removed]",
      "text/plain": [
       "<Figure size 640x480 with 1 Axes>"
      ]
     },
     "metadata": {},
     "output_type": "display_data"
    }
   ],
   "source": [
    "bi_bar(df,\"Risk\",\"Duration\")"
   ]
  },
  {
   "cell_type": "code",
   "execution_count": 141,
   "id": "13352f2e-1cae-48fc-97c8-231d1d86ed87",
   "metadata": {},
   "outputs": [
    {
     "data": {
      "text/html": [
       "<div>\n",
       "<style scoped>\n",
       "    .dataframe tbody tr th:only-of-type {\n",
       "        vertical-align: middle;\n",
       "    }\n",
       "\n",
       "    .dataframe tbody tr th {\n",
       "        vertical-align: top;\n",
       "    }\n",
       "\n",
       "    .dataframe thead th {\n",
       "        text-align: right;\n",
       "    }\n",
       "</style>\n",
       "<table border=\"1\" class=\"dataframe\">\n",
       "  <thead>\n",
       "    <tr style=\"text-align: right;\">\n",
       "      <th></th>\n",
       "      <th>Age</th>\n",
       "      <th>Credit amount</th>\n",
       "      <th>Duration</th>\n",
       "      <th>Risk</th>\n",
       "    </tr>\n",
       "  </thead>\n",
       "  <tbody>\n",
       "    <tr>\n",
       "      <th>Age</th>\n",
       "      <td>1.000000</td>\n",
       "      <td>0.032716</td>\n",
       "      <td>-0.036136</td>\n",
       "      <td>-0.091127</td>\n",
       "    </tr>\n",
       "    <tr>\n",
       "      <th>Credit amount</th>\n",
       "      <td>0.032716</td>\n",
       "      <td>1.000000</td>\n",
       "      <td>0.624984</td>\n",
       "      <td>0.154739</td>\n",
       "    </tr>\n",
       "    <tr>\n",
       "      <th>Duration</th>\n",
       "      <td>-0.036136</td>\n",
       "      <td>0.624984</td>\n",
       "      <td>1.000000</td>\n",
       "      <td>0.214927</td>\n",
       "    </tr>\n",
       "    <tr>\n",
       "      <th>Risk</th>\n",
       "      <td>-0.091127</td>\n",
       "      <td>0.154739</td>\n",
       "      <td>0.214927</td>\n",
       "      <td>1.000000</td>\n",
       "    </tr>\n",
       "  </tbody>\n",
       "</table>\n",
       "</div>"
      ],
      "text/plain": [
       "                    Age  Credit amount  Duration      Risk\n",
       "Age            1.000000       0.032716 -0.036136 -0.091127\n",
       "Credit amount  0.032716       1.000000  0.624984  0.154739\n",
       "Duration      -0.036136       0.624984  1.000000  0.214927\n",
       "Risk          -0.091127       0.154739  0.214927  1.000000"
      ]
     },
     "execution_count": 141,
     "metadata": {},
     "output_type": "execute_result"
    }
   ],
   "source": [
    "corr=df.corr(numeric_only = True)\n",
    "corr"
   ]
  },
  {
   "cell_type": "code",
   "execution_count": 142,
   "id": "20b242fc-c4ea-4170-8227-0c7e4f6f725d",
   "metadata": {},
   "outputs": [
    {
     "data": {
      "text/plain": [
       "<Axes: >"
      ]
     },
     "execution_count": 142,
     "metadata": {},
     "output_type": "execute_result"
    },
    {
     "data": {
      "image/png": "[encoded data removed]",
      "text/plain": [
       "<Figure size 640x480 with 2 Axes>"
      ]
     },
     "metadata": {},
     "output_type": "display_data"
    }
   ],
   "source": [
    "sns.heatmap(corr,annot=True)"
   ]
  },
  {
   "cell_type": "markdown",
   "id": "2cd1366d-f1ca-47bf-bbae-6e28138e5bab",
   "metadata": {},
   "source": [
    "## DATA PREPROCESSING"
   ]
  },
  {
   "cell_type": "code",
   "execution_count": 143,
   "id": "01da7ea5-4f29-4433-b975-caa7f3a89174",
   "metadata": {},
   "outputs": [
    {
     "data": {
      "text/html": [
       "<div>\n",
       "<style scoped>\n",
       "    .dataframe tbody tr th:only-of-type {\n",
       "        vertical-align: middle;\n",
       "    }\n",
       "\n",
       "    .dataframe tbody tr th {\n",
       "        vertical-align: top;\n",
       "    }\n",
       "\n",
       "    .dataframe thead th {\n",
       "        text-align: right;\n",
       "    }\n",
       "</style>\n",
       "<table border=\"1\" class=\"dataframe\">\n",
       "  <thead>\n",
       "    <tr style=\"text-align: right;\">\n",
       "      <th></th>\n",
       "      <th>Age</th>\n",
       "      <th>Sex</th>\n",
       "      <th>Job</th>\n",
       "      <th>Housing</th>\n",
       "      <th>Saving accounts</th>\n",
       "      <th>Checking account</th>\n",
       "      <th>Credit amount</th>\n",
       "      <th>Duration</th>\n",
       "      <th>Risk</th>\n",
       "      <th>Purpose</th>\n",
       "    </tr>\n",
       "  </thead>\n",
       "  <tbody>\n",
       "    <tr>\n",
       "      <th>46</th>\n",
       "      <td>39</td>\n",
       "      <td>male</td>\n",
       "      <td>skilled</td>\n",
       "      <td>own</td>\n",
       "      <td>quite rich</td>\n",
       "      <td>moderate</td>\n",
       "      <td>2299</td>\n",
       "      <td>36</td>\n",
       "      <td>0</td>\n",
       "      <td>radio/TV</td>\n",
       "    </tr>\n",
       "  </tbody>\n",
       "</table>\n",
       "</div>"
      ],
      "text/plain": [
       "    Age   Sex      Job Housing Saving accounts Checking account  \\\n",
       "46   39  male  skilled     own      quite rich         moderate   \n",
       "\n",
       "    Credit amount  Duration  Risk   Purpose  \n",
       "46           2299        36     0  radio/TV  "
      ]
     },
     "execution_count": 143,
     "metadata": {},
     "output_type": "execute_result"
    }
   ],
   "source": [
    "df.sample()"
   ]
  },
  {
   "cell_type": "markdown",
   "id": "a70d94e8-f5fa-4e39-a407-e772ae913e7a",
   "metadata": {},
   "source": [
    "ENCODING"
   ]
  },
  {
   "cell_type": "code",
   "execution_count": 144,
   "id": "146595bd-dbe5-41e9-968b-b91ab00a1e2f",
   "metadata": {
    "scrolled": true
   },
   "outputs": [
    {
     "name": "stdout",
     "output_type": "stream",
     "text": [
      "Age\n",
      "[67 22 49 45 53 35 61 28 25 24 60 32 44 31 48 26 36 39 42 34 63 27 30 57\n",
      " 33 37 58 23 29 52 50 46 51 41 40 66 47 56 54 20 21 38 70 65 74 68 43 55\n",
      " 64 75 19 62 59]\n",
      "......................................\n",
      "Sex\n",
      "['male' 'female']\n",
      "......................................\n",
      "Job\n",
      "['skilled' 'unskilled_and_non-resident' 'highly skilled']\n",
      "......................................\n",
      "Housing\n",
      "['own' 'free' 'rent']\n",
      "......................................\n",
      "Saving accounts\n",
      "['little' 'quite rich' 'rich' 'moderate']\n",
      "......................................\n",
      "Checking account\n",
      "['little' 'moderate' 'rich']\n",
      "......................................\n",
      "Credit amount\n",
      "[ 1169  5951  2096  7882  4870  9055  2835  6948  3059  5234  1295  4308\n",
      "  1567  1199  1403  1282  2424  8072 12579  3430  2134  2647  2241  1804\n",
      "  2069  1374   426   409  2415  6836  1913  4020  5866  1264  1474  4746\n",
      "  6110  2100  1225   458  2333  1158  6204  6187  6143  1393  2299  1352\n",
      "  7228  2073  5965  1262  3378  2225   783  6468  9566  1961  6229  1391\n",
      "  1537  1953 14421  3181  5190  2171  1007  1819  2394  8133   730  1164\n",
      "  5954  1977  1526  3965  4771  9436  3832  5943  1213  1568  1755  2315\n",
      "  1412 12612  2249  1108   618  1409   797  3617  1318 15945  2012  2622\n",
      "  2337  7057  1469  2323   932  1919  2445 11938  6458  6078  7721  1410\n",
      "  1449   392  6260  7855  1680  3578  7174  2132  4281  2366  1835  3868\n",
      "  1768   781  1924  2121   701   639  1860  3499  8487  6887  2708  1984\n",
      " 10144  1240  8613   766  2728  1881   709  4795  3416  2462  2288  3566\n",
      "   860   682  5371  1582  1346  5848  7758  6967  1288   339  3512  1898\n",
      "  2872  1055  7308   909  2978  1131  1577  3972  1935   950   763  2064\n",
      "  1414  3414  7485  2577   338  1963   571  9572  4455  1647  3777   884\n",
      "  1360  5129  1175   674  3244  4591  3844  3915  2108  3031  1501  1382\n",
      "   951  2760  4297   936  1168  5117   902  1495 10623  1424  6568  1413\n",
      "  3074  3835  5293  1908  3342  3104  3913  3021  1364   625  1200   707\n",
      "  4657  2613 10961  7865  1478  3149  4210  2507  2141   866  1544  1823\n",
      " 14555  2767  1291  2522   915  1595  4605  1185  3447  1258   717  1204\n",
      "  1925   433   666  2251  2150  4151  2030  7418  2684  2149  3812  1154\n",
      "  1657  1603  5302  2748  1231   802  6304  1533  8978   999  2662  1402\n",
      " 12169  3060 11998  2697  2404  4611  1901  3368  1574  1445  1520  3878\n",
      " 10722  4788  7582  1092  1024  1076  9398  6419  4796  7629  9960  4675\n",
      "  1287  2515  2745   672  3804  1344  1038 10127  1543  4811   727  1237\n",
      "   276  5381  5511  3749   685  1494  2746   708  4351  3643  4249  1938\n",
      "  2910  2659  1028  3398  5801  1525  4473  1068  6615  1864  7408 11590\n",
      "  4110  3384  2101  1275  4169  1521  5743  3599  3213  4439  3949  1459\n",
      "   882  3758  1743  1136  1236   959  3229  6199  1246  2331  4463   776\n",
      "  2406  1239  3399  2247  1766  2473  1542  3850  3650  3446  3001  3079\n",
      "  6070  2146 13756 14782  7685  2320   846 14318   362  2212 12976  1283\n",
      "  1330  4272  2238  1126  7374  2326  1820   983  3249  1957 11760  2578\n",
      "  2348  1223  1516  1473  1887  8648  2899  2039  2197  1053  3235   939\n",
      "  1967  7253  2292  1597  1381  5842  2579  8471  2782  1042  3186  2028\n",
      "   958  1591  2762  2779  2743  1149  1313  1190  3448 11328  1872  2058\n",
      "  2136  1484   660  3394   609  1884  1620  2629   719  5096  1244  1842\n",
      "  2576  1512 11054   518  2759  2670  4817  2679  3905  3386   343  4594\n",
      "  3620  1721  3017   754  1950  2924  1659  7238  2764  4679  3092   448\n",
      "   654  1238  1245  3114  2569  5152  1037  3573  1201  3622   960  1163\n",
      "  1209  3077  3757  1418  3518  1934  8318   368  2122  2996  9034  1585\n",
      "  1301  1323  3123  5493  1216  1207  1309  2360  6850  8588   759  4686\n",
      "  2687   585  2255  1361  7127  1203   700  5507  3190  7119  3488  1113\n",
      "  7966  1532  1503  2302   662  2273  2631  1311  3105  2319  3612  7763\n",
      "  3049  1534  2032  6350  2864  1255  1333  2022  1552   626  8858   996\n",
      "  1750  6999  1995  1331  2278  5003  3552  1928  2964  1546   683 12389\n",
      "  4712  1553  1372  3979  6758  3234  5433   806  1082  2788  2930  1927\n",
      "  2820   937  1056  3124  1388  2384  2133  2799  1289  1217  2246   385\n",
      "  1965  1572  2718  1358   931  1442  4241  2775  3863  2329   918  1837\n",
      "  3349  2828  4526  2671  2051  1300   741  3357  3632  1808 12204  9157\n",
      "  3676  3441   640  3652  1530  3914  1858  2600  1979  2116  1437  4042\n",
      "  3660  1444  1980  1355  1376 15653  1493  4370   750  1308  4623  1851\n",
      "  1880  7980  4583  1386   947   684  7476  1922  2303  8086  2346  3973\n",
      "   888 10222  4221  6361  1297   900  1050  1047  6314  3496  3609  4843\n",
      "  4139  5742 10366  2080  2580  4530  5150  5595  1453  1538  2279  5103\n",
      "  9857  6527  1347  2862  2753  3651   975  2896  4716  2284  1103   926\n",
      "  1800  1905  1123  6331  1377  2503  2528  5324  6560  2969  1206  2118\n",
      "   629  1198  2476  1138 14027  7596  1505  3148  6148  1337  1228   790\n",
      "  2570   250  1316  1882  6416  6403  1987   760  2603  3380  3990 11560\n",
      "  4380  6761  4280  2325  1048  3160  2483 14179  1797  2511  1274  5248\n",
      "  3029   428   976   841  5771  1555  1285  1299  1271   691  5045  2124\n",
      "  2214 12680  2463  1155  3108  2901  1655  2812  8065  3275  2223  1480\n",
      "  1371  3535  3509  5711  3872  4933  1940   836  1941  2675  2751  6224\n",
      "  5998  1188  6313  1221  2892  3062  2301  7511  1549  1795  7472  9271\n",
      "   590   930  9283  1778   907   484  9629  3051  3931  7432  1338  1554\n",
      " 15857  1345  1101  3016  2712   731  3780  1602  3966  4165  8335  6681\n",
      "  2375 11816  5084  2327   886   601  2957  2611  5179  2993  1943  1559\n",
      "  3422  3976  1249  2235  1471 10875   894  3343  3959  3577  5804  2169\n",
      "  2439  2210  2221  2389  3331  7409   652  7678  1343   874  3590  1322\n",
      "  3595  1422  6742  7814  9277  2181  1098  4057   795  2825 15672  6614\n",
      "  7824  2442  1829  5800  8947  2606  1592  2186  4153  2625  3485 10477\n",
      "  1278  1107  3763  3711  3594  3195  4454  4736  2991  2142  3161 18424\n",
      "  2848 14896  2359  3345  1817 12749  1366  2002  6872   697  1049 10297\n",
      "  1867  1747  1670  1224   522  1498   745  2063  6288  6842  3527   929\n",
      "  1455  1845  8358  2859  3621  2145  4113 10974  1893  3656  4006  3069\n",
      "  1740  2353  3556  2397   454  1715  2520  3568  7166  3939  1514  7393\n",
      "  1193  7297  2831   753  2427  2538  8386  4844  2923  8229  1433  6289\n",
      "  6579  3565  1569  1936  2390  1736  3857   804  4576]\n",
      "......................................\n",
      "Duration\n",
      "[ 6 48 12 42 24 36 30 15  9 10  7 60 18 45 11 27  8 54 20 14 33 21 16  4\n",
      " 47 13 22 39 28  5 26 72 40]\n",
      "......................................\n",
      "Risk\n",
      "[0 1]\n",
      "......................................\n",
      "Purpose\n",
      "['radio/TV' 'education' 'furniture/equipment' 'car' 'business'\n",
      " 'domestic appliances' 'repairs' 'vacation/others']\n",
      "......................................\n"
     ]
    }
   ],
   "source": [
    "for i in df.columns:\n",
    "    print(i)\n",
    "    print(df[i].unique())\n",
    "    print(\"......................................\")"
   ]
  },
  {
   "cell_type": "code",
   "execution_count": 145,
   "id": "9c993632-d26b-4f1c-aadf-ffa2e124d3b9",
   "metadata": {},
   "outputs": [],
   "source": [
    "# using for loop for encoding ourselves\n",
    "job_new = []\n",
    "\n",
    "for i in df[\"Job\"]:\n",
    "    if i==\"unskilled_and_non-resident\":\n",
    "        job_new.append(0)\n",
    "    elif i==\"skilled\":\n",
    "        job_new.append(1)\n",
    "    else:\n",
    "        job_new.append(2)"
   ]
  },
  {
   "cell_type": "code",
   "execution_count": 146,
   "id": "859d433d-7005-4836-9cf5-ff292b017a7b",
   "metadata": {},
   "outputs": [
    {
     "data": {
      "text/html": [
       "<div>\n",
       "<style scoped>\n",
       "    .dataframe tbody tr th:only-of-type {\n",
       "        vertical-align: middle;\n",
       "    }\n",
       "\n",
       "    .dataframe tbody tr th {\n",
       "        vertical-align: top;\n",
       "    }\n",
       "\n",
       "    .dataframe thead th {\n",
       "        text-align: right;\n",
       "    }\n",
       "</style>\n",
       "<table border=\"1\" class=\"dataframe\">\n",
       "  <thead>\n",
       "    <tr style=\"text-align: right;\">\n",
       "      <th></th>\n",
       "      <th>Age</th>\n",
       "      <th>Sex</th>\n",
       "      <th>Job</th>\n",
       "      <th>Housing</th>\n",
       "      <th>Saving accounts</th>\n",
       "      <th>Checking account</th>\n",
       "      <th>Credit amount</th>\n",
       "      <th>Duration</th>\n",
       "      <th>Risk</th>\n",
       "      <th>Purpose</th>\n",
       "    </tr>\n",
       "  </thead>\n",
       "  <tbody>\n",
       "    <tr>\n",
       "      <th>612</th>\n",
       "      <td>29</td>\n",
       "      <td>female</td>\n",
       "      <td>1</td>\n",
       "      <td>own</td>\n",
       "      <td>rich</td>\n",
       "      <td>little</td>\n",
       "      <td>3357</td>\n",
       "      <td>21</td>\n",
       "      <td>0</td>\n",
       "      <td>radio/TV</td>\n",
       "    </tr>\n",
       "  </tbody>\n",
       "</table>\n",
       "</div>"
      ],
      "text/plain": [
       "     Age     Sex  Job Housing Saving accounts Checking account  Credit amount  \\\n",
       "612   29  female    1     own            rich           little           3357   \n",
       "\n",
       "     Duration  Risk   Purpose  \n",
       "612        21     0  radio/TV  "
      ]
     },
     "execution_count": 146,
     "metadata": {},
     "output_type": "execute_result"
    }
   ],
   "source": [
    "df[\"Job\"]= job_new\n",
    "df.sample()"
   ]
  },
  {
   "cell_type": "code",
   "execution_count": 147,
   "id": "ec425f2f-7612-4bd7-be5a-1c6e2773d72e",
   "metadata": {},
   "outputs": [],
   "source": [
    "housing_new = []\n",
    "\n",
    "for i in df[\"Housing\"]:\n",
    "    if i==\"free\":\n",
    "        housing_new.append(0)\n",
    "    elif i==\"rent\":\n",
    "        housing_new.append(1)\n",
    "    else:\n",
    "        housing_new.append(2)\n",
    "    "
   ]
  },
  {
   "cell_type": "code",
   "execution_count": 148,
   "id": "9b8471fd-5582-4c24-bee3-f31d263331ff",
   "metadata": {},
   "outputs": [],
   "source": [
    "df[\"Housing\"]=housing_new"
   ]
  },
  {
   "cell_type": "code",
   "execution_count": 149,
   "id": "3ede149a-2c22-4935-bc1c-e4bb23e440ef",
   "metadata": {},
   "outputs": [],
   "source": [
    "Saving_new=[]\n",
    "\n",
    "for i in df[\"Saving accounts\"]:\n",
    "    if i==\"little\":\n",
    "        Saving_new.append(0)\n",
    "    elif i==\"quite rich\":\n",
    "        Saving_new.append(1)\n",
    "    elif i==\"rich\":\n",
    "        Saving_new.append(2)\n",
    "    else:\n",
    "        Saving_new.append(3)\n",
    "        "
   ]
  },
  {
   "cell_type": "code",
   "execution_count": 150,
   "id": "7d881c0c-0238-4051-9b1d-32752d7d4212",
   "metadata": {},
   "outputs": [],
   "source": [
    "df[\"Saving accounts\"]= Saving_new"
   ]
  },
  {
   "cell_type": "code",
   "execution_count": 151,
   "id": "8b773cee-f673-4928-97b7-d40d92f7dcb0",
   "metadata": {},
   "outputs": [
    {
     "data": {
      "text/html": [
       "<div>\n",
       "<style scoped>\n",
       "    .dataframe tbody tr th:only-of-type {\n",
       "        vertical-align: middle;\n",
       "    }\n",
       "\n",
       "    .dataframe tbody tr th {\n",
       "        vertical-align: top;\n",
       "    }\n",
       "\n",
       "    .dataframe thead th {\n",
       "        text-align: right;\n",
       "    }\n",
       "</style>\n",
       "<table border=\"1\" class=\"dataframe\">\n",
       "  <thead>\n",
       "    <tr style=\"text-align: right;\">\n",
       "      <th></th>\n",
       "      <th>Age</th>\n",
       "      <th>Sex</th>\n",
       "      <th>Job</th>\n",
       "      <th>Housing</th>\n",
       "      <th>Saving accounts</th>\n",
       "      <th>Checking account</th>\n",
       "      <th>Credit amount</th>\n",
       "      <th>Duration</th>\n",
       "      <th>Risk</th>\n",
       "      <th>Purpose</th>\n",
       "    </tr>\n",
       "  </thead>\n",
       "  <tbody>\n",
       "    <tr>\n",
       "      <th>956</th>\n",
       "      <td>49</td>\n",
       "      <td>male</td>\n",
       "      <td>0</td>\n",
       "      <td>2</td>\n",
       "      <td>0</td>\n",
       "      <td>rich</td>\n",
       "      <td>3656</td>\n",
       "      <td>30</td>\n",
       "      <td>0</td>\n",
       "      <td>radio/TV</td>\n",
       "    </tr>\n",
       "    <tr>\n",
       "      <th>853</th>\n",
       "      <td>32</td>\n",
       "      <td>male</td>\n",
       "      <td>0</td>\n",
       "      <td>0</td>\n",
       "      <td>0</td>\n",
       "      <td>little</td>\n",
       "      <td>1442</td>\n",
       "      <td>18</td>\n",
       "      <td>1</td>\n",
       "      <td>car</td>\n",
       "    </tr>\n",
       "    <tr>\n",
       "      <th>433</th>\n",
       "      <td>33</td>\n",
       "      <td>male</td>\n",
       "      <td>1</td>\n",
       "      <td>2</td>\n",
       "      <td>0</td>\n",
       "      <td>little</td>\n",
       "      <td>2058</td>\n",
       "      <td>24</td>\n",
       "      <td>0</td>\n",
       "      <td>repairs</td>\n",
       "    </tr>\n",
       "  </tbody>\n",
       "</table>\n",
       "</div>"
      ],
      "text/plain": [
       "     Age   Sex  Job  Housing  Saving accounts Checking account  Credit amount  \\\n",
       "956   49  male    0        2                0             rich           3656   \n",
       "853   32  male    0        0                0           little           1442   \n",
       "433   33  male    1        2                0           little           2058   \n",
       "\n",
       "     Duration  Risk   Purpose  \n",
       "956        30     0  radio/TV  \n",
       "853        18     1       car  \n",
       "433        24     0   repairs  "
      ]
     },
     "execution_count": 151,
     "metadata": {},
     "output_type": "execute_result"
    }
   ],
   "source": [
    "df.sample(3)"
   ]
  },
  {
   "cell_type": "code",
   "execution_count": 152,
   "id": "24d0b0a0-4f8d-4d85-93d9-9add398607c7",
   "metadata": {},
   "outputs": [],
   "source": [
    "# using label encoder because they can be ranked alphabetically\n",
    "from sklearn.preprocessing import LabelEncoder"
   ]
  },
  {
   "cell_type": "code",
   "execution_count": 153,
   "id": "b1b606d9-51fa-4b85-9eda-0d6589e7cd0e",
   "metadata": {},
   "outputs": [],
   "source": [
    "le=LabelEncoder()"
   ]
  },
  {
   "cell_type": "code",
   "execution_count": 154,
   "id": "450b6a7d-ed8c-4f34-9259-e2c2e24cf232",
   "metadata": {},
   "outputs": [],
   "source": [
    "col=[\"Sex\",\"Checking account\"]\n",
    "\n",
    "for i in col:\n",
    "    df[i]=le.fit_transform(df[i])"
   ]
  },
  {
   "cell_type": "code",
   "execution_count": 155,
   "id": "007ba46a-0cbf-4be8-adcd-9187be499a9f",
   "metadata": {},
   "outputs": [
    {
     "data": {
      "text/plain": [
       "['le.joblib']"
      ]
     },
     "execution_count": 155,
     "metadata": {},
     "output_type": "execute_result"
    }
   ],
   "source": [
    "import joblib\n",
    "joblib.dump(le,\"le.joblib\")# we are saving this for use on streamlit"
   ]
  },
  {
   "cell_type": "code",
   "execution_count": 156,
   "id": "08173a14-9cfb-4728-bb8a-9c6b59c1fa4a",
   "metadata": {},
   "outputs": [
    {
     "data": {
      "text/html": [
       "<div>\n",
       "<style scoped>\n",
       "    .dataframe tbody tr th:only-of-type {\n",
       "        vertical-align: middle;\n",
       "    }\n",
       "\n",
       "    .dataframe tbody tr th {\n",
       "        vertical-align: top;\n",
       "    }\n",
       "\n",
       "    .dataframe thead th {\n",
       "        text-align: right;\n",
       "    }\n",
       "</style>\n",
       "<table border=\"1\" class=\"dataframe\">\n",
       "  <thead>\n",
       "    <tr style=\"text-align: right;\">\n",
       "      <th></th>\n",
       "      <th>Age</th>\n",
       "      <th>Sex</th>\n",
       "      <th>Job</th>\n",
       "      <th>Housing</th>\n",
       "      <th>Saving accounts</th>\n",
       "      <th>Checking account</th>\n",
       "      <th>Credit amount</th>\n",
       "      <th>Duration</th>\n",
       "      <th>Risk</th>\n",
       "      <th>Purpose</th>\n",
       "    </tr>\n",
       "  </thead>\n",
       "  <tbody>\n",
       "    <tr>\n",
       "      <th>203</th>\n",
       "      <td>21</td>\n",
       "      <td>1</td>\n",
       "      <td>1</td>\n",
       "      <td>1</td>\n",
       "      <td>0</td>\n",
       "      <td>0</td>\n",
       "      <td>902</td>\n",
       "      <td>12</td>\n",
       "      <td>1</td>\n",
       "      <td>education</td>\n",
       "    </tr>\n",
       "    <tr>\n",
       "      <th>594</th>\n",
       "      <td>40</td>\n",
       "      <td>1</td>\n",
       "      <td>2</td>\n",
       "      <td>2</td>\n",
       "      <td>0</td>\n",
       "      <td>0</td>\n",
       "      <td>1358</td>\n",
       "      <td>24</td>\n",
       "      <td>1</td>\n",
       "      <td>vacation/others</td>\n",
       "    </tr>\n",
       "    <tr>\n",
       "      <th>174</th>\n",
       "      <td>26</td>\n",
       "      <td>1</td>\n",
       "      <td>1</td>\n",
       "      <td>2</td>\n",
       "      <td>0</td>\n",
       "      <td>0</td>\n",
       "      <td>3414</td>\n",
       "      <td>21</td>\n",
       "      <td>1</td>\n",
       "      <td>education</td>\n",
       "    </tr>\n",
       "  </tbody>\n",
       "</table>\n",
       "</div>"
      ],
      "text/plain": [
       "     Age  Sex  Job  Housing  Saving accounts  Checking account  Credit amount  \\\n",
       "203   21    1    1        1                0                 0            902   \n",
       "594   40    1    2        2                0                 0           1358   \n",
       "174   26    1    1        2                0                 0           3414   \n",
       "\n",
       "     Duration  Risk          Purpose  \n",
       "203        12     1        education  \n",
       "594        24     1  vacation/others  \n",
       "174        21     1        education  "
      ]
     },
     "execution_count": 156,
     "metadata": {},
     "output_type": "execute_result"
    }
   ],
   "source": [
    "df.sample(3)"
   ]
  },
  {
   "cell_type": "code",
   "execution_count": 157,
   "id": "e57cabd4-a276-47c8-bf09-47f2e68a1a73",
   "metadata": {},
   "outputs": [],
   "source": [
    "from sklearn.preprocessing import OneHotEncoder as ohe"
   ]
  },
  {
   "cell_type": "code",
   "execution_count": 158,
   "id": "b469974e-a80a-4a90-8aeb-312a836618e7",
   "metadata": {},
   "outputs": [
    {
     "name": "stdout",
     "output_type": "stream",
     "text": [
      "[[0. 0. 0. ... 1. 0. 0.]\n",
      " [0. 0. 0. ... 1. 0. 0.]\n",
      " [0. 0. 1. ... 0. 0. 0.]\n",
      " ...\n",
      " [0. 0. 0. ... 1. 0. 0.]\n",
      " [0. 0. 0. ... 1. 0. 0.]\n",
      " [1. 0. 0. ... 0. 0. 0.]]\n"
     ]
    }
   ],
   "source": [
    "oh=ohe(sparse_output = False, handle_unknown = \"ignore\",drop = \"first\")\n",
    "encode = oh.fit_transform(df[[\"Purpose\"]])\n",
    "print(encode)\n"
   ]
  },
  {
   "cell_type": "code",
   "execution_count": 159,
   "id": "4bde38ad-b0db-4b8c-9af7-f949ecfa89c2",
   "metadata": {},
   "outputs": [
    {
     "data": {
      "text/plain": [
       "['oh.joblib']"
      ]
     },
     "execution_count": 159,
     "metadata": {},
     "output_type": "execute_result"
    }
   ],
   "source": [
    "joblib.dump(oh, \"oh.joblib\")"
   ]
  },
  {
   "cell_type": "code",
   "execution_count": 160,
   "id": "5efa47a4-8571-4337-bfd4-78ae5faf9b15",
   "metadata": {
    "scrolled": true
   },
   "outputs": [
    {
     "data": {
      "text/html": [
       "<div>\n",
       "<style scoped>\n",
       "    .dataframe tbody tr th:only-of-type {\n",
       "        vertical-align: middle;\n",
       "    }\n",
       "\n",
       "    .dataframe tbody tr th {\n",
       "        vertical-align: top;\n",
       "    }\n",
       "\n",
       "    .dataframe thead th {\n",
       "        text-align: right;\n",
       "    }\n",
       "</style>\n",
       "<table border=\"1\" class=\"dataframe\">\n",
       "  <thead>\n",
       "    <tr style=\"text-align: right;\">\n",
       "      <th></th>\n",
       "      <th>car</th>\n",
       "      <th>domestic appliances</th>\n",
       "      <th>education</th>\n",
       "      <th>furniture/equipment</th>\n",
       "      <th>radio/TV</th>\n",
       "      <th>repairs</th>\n",
       "      <th>vacation/others</th>\n",
       "    </tr>\n",
       "  </thead>\n",
       "  <tbody>\n",
       "    <tr>\n",
       "      <th>0</th>\n",
       "      <td>0</td>\n",
       "      <td>0</td>\n",
       "      <td>0</td>\n",
       "      <td>0</td>\n",
       "      <td>1</td>\n",
       "      <td>0</td>\n",
       "      <td>0</td>\n",
       "    </tr>\n",
       "    <tr>\n",
       "      <th>1</th>\n",
       "      <td>0</td>\n",
       "      <td>0</td>\n",
       "      <td>0</td>\n",
       "      <td>0</td>\n",
       "      <td>1</td>\n",
       "      <td>0</td>\n",
       "      <td>0</td>\n",
       "    </tr>\n",
       "    <tr>\n",
       "      <th>2</th>\n",
       "      <td>0</td>\n",
       "      <td>0</td>\n",
       "      <td>1</td>\n",
       "      <td>0</td>\n",
       "      <td>0</td>\n",
       "      <td>0</td>\n",
       "      <td>0</td>\n",
       "    </tr>\n",
       "    <tr>\n",
       "      <th>3</th>\n",
       "      <td>0</td>\n",
       "      <td>0</td>\n",
       "      <td>0</td>\n",
       "      <td>1</td>\n",
       "      <td>0</td>\n",
       "      <td>0</td>\n",
       "      <td>0</td>\n",
       "    </tr>\n",
       "    <tr>\n",
       "      <th>4</th>\n",
       "      <td>1</td>\n",
       "      <td>0</td>\n",
       "      <td>0</td>\n",
       "      <td>0</td>\n",
       "      <td>0</td>\n",
       "      <td>0</td>\n",
       "      <td>0</td>\n",
       "    </tr>\n",
       "    <tr>\n",
       "      <th>...</th>\n",
       "      <td>...</td>\n",
       "      <td>...</td>\n",
       "      <td>...</td>\n",
       "      <td>...</td>\n",
       "      <td>...</td>\n",
       "      <td>...</td>\n",
       "      <td>...</td>\n",
       "    </tr>\n",
       "    <tr>\n",
       "      <th>995</th>\n",
       "      <td>0</td>\n",
       "      <td>0</td>\n",
       "      <td>0</td>\n",
       "      <td>1</td>\n",
       "      <td>0</td>\n",
       "      <td>0</td>\n",
       "      <td>0</td>\n",
       "    </tr>\n",
       "    <tr>\n",
       "      <th>996</th>\n",
       "      <td>1</td>\n",
       "      <td>0</td>\n",
       "      <td>0</td>\n",
       "      <td>0</td>\n",
       "      <td>0</td>\n",
       "      <td>0</td>\n",
       "      <td>0</td>\n",
       "    </tr>\n",
       "    <tr>\n",
       "      <th>997</th>\n",
       "      <td>0</td>\n",
       "      <td>0</td>\n",
       "      <td>0</td>\n",
       "      <td>0</td>\n",
       "      <td>1</td>\n",
       "      <td>0</td>\n",
       "      <td>0</td>\n",
       "    </tr>\n",
       "    <tr>\n",
       "      <th>998</th>\n",
       "      <td>0</td>\n",
       "      <td>0</td>\n",
       "      <td>0</td>\n",
       "      <td>0</td>\n",
       "      <td>1</td>\n",
       "      <td>0</td>\n",
       "      <td>0</td>\n",
       "    </tr>\n",
       "    <tr>\n",
       "      <th>999</th>\n",
       "      <td>1</td>\n",
       "      <td>0</td>\n",
       "      <td>0</td>\n",
       "      <td>0</td>\n",
       "      <td>0</td>\n",
       "      <td>0</td>\n",
       "      <td>0</td>\n",
       "    </tr>\n",
       "  </tbody>\n",
       "</table>\n",
       "<p>1000 rows × 7 columns</p>\n",
       "</div>"
      ],
      "text/plain": [
       "     car  domestic appliances  education  furniture/equipment  radio/TV  \\\n",
       "0      0                    0          0                    0         1   \n",
       "1      0                    0          0                    0         1   \n",
       "2      0                    0          1                    0         0   \n",
       "3      0                    0          0                    1         0   \n",
       "4      1                    0          0                    0         0   \n",
       "..   ...                  ...        ...                  ...       ...   \n",
       "995    0                    0          0                    1         0   \n",
       "996    1                    0          0                    0         0   \n",
       "997    0                    0          0                    0         1   \n",
       "998    0                    0          0                    0         1   \n",
       "999    1                    0          0                    0         0   \n",
       "\n",
       "     repairs  vacation/others  \n",
       "0          0                0  \n",
       "1          0                0  \n",
       "2          0                0  \n",
       "3          0                0  \n",
       "4          0                0  \n",
       "..       ...              ...  \n",
       "995        0                0  \n",
       "996        0                0  \n",
       "997        0                0  \n",
       "998        0                0  \n",
       "999        0                0  \n",
       "\n",
       "[1000 rows x 7 columns]"
      ]
     },
     "execution_count": 160,
     "metadata": {},
     "output_type": "execute_result"
    }
   ],
   "source": [
    "# using Dummies because they cannot be ranked\n",
    "df_p= pd.get_dummies(df[\"Purpose\"],drop_first=1).astype(int)\n",
    "df_p"
   ]
  },
  {
   "cell_type": "code",
   "execution_count": 161,
   "id": "e82a19e0-500a-447d-9523-5b64c4d50cfa",
   "metadata": {},
   "outputs": [],
   "source": [
    "#droop purpose column\n",
    "df=df.drop(\"Purpose\", axis = 1)"
   ]
  },
  {
   "cell_type": "code",
   "execution_count": 162,
   "id": "264b9843-6ebf-4933-8537-25d870e25155",
   "metadata": {},
   "outputs": [],
   "source": [
    "# concate dummies with main data\n",
    "df1 = pd.concat([df,df_p],axis=1)"
   ]
  },
  {
   "cell_type": "markdown",
   "id": "3f4764d2-f486-4e50-9125-cdfcc1d95dc5",
   "metadata": {},
   "source": [
    "SCALING"
   ]
  },
  {
   "cell_type": "code",
   "execution_count": 163,
   "id": "06ef1e27-9857-4e21-96eb-02e0f08b661e",
   "metadata": {},
   "outputs": [],
   "source": [
    "mms_credit = MinMaxScaler()\n",
    "df1[\"Credit amount\"] = mms_credit.fit_transform(df[[\"Credit amount\"]])\n",
    "\n",
    "mms_credit.feature_names_in_\n",
    "with open(\"mms_credit.pkl\",\"wb\") as f:\n",
    "    pickle.dump(mms_credit,f)\n"
   ]
  },
  {
   "cell_type": "code",
   "execution_count": 164,
   "id": "606bc076-3dfd-498c-ac2f-37389fe02c46",
   "metadata": {},
   "outputs": [],
   "source": [
    "mms_credit = MinMaxScaler()\n",
    "df1[\"Age\"] = mms_credit.fit_transform(df[[\"Age\"]])\n",
    "\n",
    "mms_credit.feature_names_in_\n",
    "with open(\"mms_age.pkl\",\"wb\") as f:\n",
    "    pickle.dump(mms_credit,f)\n"
   ]
  },
  {
   "cell_type": "code",
   "execution_count": 165,
   "id": "aeedc9fb-e1ed-4a15-acf5-95dc4d4bf67c",
   "metadata": {},
   "outputs": [],
   "source": [
    "\n",
    "\n",
    "mms = MinMaxScaler()\n",
    "cols = [\"Age\",\"Credit amount\",\"Duration\"]\n",
    "\n",
    "for i in cols:\n",
    "    df1[i]=mms.fit_transform(df1[[i]])\n",
    "with open(\"mms.pkl\",\"wb\") as f:\n",
    "    pickle.dump(mms,f)"
   ]
  },
  {
   "cell_type": "code",
   "execution_count": 166,
   "id": "e573ac15-b32b-4395-a08a-9daeb539e0ba",
   "metadata": {},
   "outputs": [],
   "source": [
    "mms = MinMaxScaler()\n",
    "cols = [\"Credit amount\",]\n",
    "\n",
    "for i in cols:\n",
    "    df1[i]=mms.fit_transform(df1[[i]])\n",
    "with open(\"mms_credit.pkl\",\"wb\") as f:\n",
    "    pickle.dump(mms,f)"
   ]
  },
  {
   "cell_type": "code",
   "execution_count": 167,
   "id": "d6c74e33-a2d0-4c79-a9ce-a4ee0b3a5c94",
   "metadata": {},
   "outputs": [],
   "source": [
    "mms = MinMaxScaler()\n",
    "cols = [\"Age\"]\n",
    "\n",
    "for i in cols:\n",
    "    df1[i]=mms.fit_transform(df1[[i]])\n",
    "with open(\"mms_age.pkl\",\"wb\") as f:\n",
    "    pickle.dump(mms,f)"
   ]
  },
  {
   "cell_type": "code",
   "execution_count": 168,
   "id": "021cec1a-bd94-4253-b19a-468120eb4d12",
   "metadata": {},
   "outputs": [],
   "source": [
    "#using pickle to save scaler, it doesnt follow thesame process as joblib\n",
    "import pickle\n",
    "with open(\"mms.pkl\",\"wb\") as f:\n",
    "    pickle.dump(mms,f)"
   ]
  },
  {
   "cell_type": "code",
   "execution_count": 169,
   "id": "e80d97d5-374d-4041-93f7-375b9e9a7bf1",
   "metadata": {
    "scrolled": true
   },
   "outputs": [
    {
     "data": {
      "text/html": [
       "<div>\n",
       "<style scoped>\n",
       "    .dataframe tbody tr th:only-of-type {\n",
       "        vertical-align: middle;\n",
       "    }\n",
       "\n",
       "    .dataframe tbody tr th {\n",
       "        vertical-align: top;\n",
       "    }\n",
       "\n",
       "    .dataframe thead th {\n",
       "        text-align: right;\n",
       "    }\n",
       "</style>\n",
       "<table border=\"1\" class=\"dataframe\">\n",
       "  <thead>\n",
       "    <tr style=\"text-align: right;\">\n",
       "      <th></th>\n",
       "      <th>Age</th>\n",
       "      <th>Sex</th>\n",
       "      <th>Job</th>\n",
       "      <th>Housing</th>\n",
       "      <th>Saving accounts</th>\n",
       "      <th>Checking account</th>\n",
       "      <th>Credit amount</th>\n",
       "      <th>Duration</th>\n",
       "      <th>Risk</th>\n",
       "      <th>car</th>\n",
       "      <th>domestic appliances</th>\n",
       "      <th>education</th>\n",
       "      <th>furniture/equipment</th>\n",
       "      <th>radio/TV</th>\n",
       "      <th>repairs</th>\n",
       "      <th>vacation/others</th>\n",
       "    </tr>\n",
       "  </thead>\n",
       "  <tbody>\n",
       "    <tr>\n",
       "      <th>74</th>\n",
       "      <td>0.375000</td>\n",
       "      <td>1</td>\n",
       "      <td>2</td>\n",
       "      <td>2</td>\n",
       "      <td>0</td>\n",
       "      <td>0</td>\n",
       "      <td>0.095026</td>\n",
       "      <td>0.470588</td>\n",
       "      <td>1</td>\n",
       "      <td>0</td>\n",
       "      <td>0</td>\n",
       "      <td>1</td>\n",
       "      <td>0</td>\n",
       "      <td>0</td>\n",
       "      <td>0</td>\n",
       "      <td>0</td>\n",
       "    </tr>\n",
       "    <tr>\n",
       "      <th>817</th>\n",
       "      <td>0.089286</td>\n",
       "      <td>0</td>\n",
       "      <td>1</td>\n",
       "      <td>1</td>\n",
       "      <td>0</td>\n",
       "      <td>0</td>\n",
       "      <td>0.071751</td>\n",
       "      <td>0.029412</td>\n",
       "      <td>0</td>\n",
       "      <td>0</td>\n",
       "      <td>0</td>\n",
       "      <td>0</td>\n",
       "      <td>0</td>\n",
       "      <td>1</td>\n",
       "      <td>0</td>\n",
       "      <td>0</td>\n",
       "    </tr>\n",
       "    <tr>\n",
       "      <th>611</th>\n",
       "      <td>0.517857</td>\n",
       "      <td>0</td>\n",
       "      <td>0</td>\n",
       "      <td>0</td>\n",
       "      <td>3</td>\n",
       "      <td>2</td>\n",
       "      <td>0.054473</td>\n",
       "      <td>0.088235</td>\n",
       "      <td>1</td>\n",
       "      <td>1</td>\n",
       "      <td>0</td>\n",
       "      <td>0</td>\n",
       "      <td>0</td>\n",
       "      <td>0</td>\n",
       "      <td>0</td>\n",
       "      <td>0</td>\n",
       "    </tr>\n",
       "  </tbody>\n",
       "</table>\n",
       "</div>"
      ],
      "text/plain": [
       "          Age  Sex  Job  Housing  Saving accounts  Checking account  \\\n",
       "74   0.375000    1    2        2                0                 0   \n",
       "817  0.089286    0    1        1                0                 0   \n",
       "611  0.517857    0    0        0                3                 2   \n",
       "\n",
       "     Credit amount  Duration  Risk  car  domestic appliances  education  \\\n",
       "74        0.095026  0.470588     1    0                    0          1   \n",
       "817       0.071751  0.029412     0    0                    0          0   \n",
       "611       0.054473  0.088235     1    1                    0          0   \n",
       "\n",
       "     furniture/equipment  radio/TV  repairs  vacation/others  \n",
       "74                     0         0        0                0  \n",
       "817                    0         1        0                0  \n",
       "611                    0         0        0                0  "
      ]
     },
     "execution_count": 169,
     "metadata": {},
     "output_type": "execute_result"
    }
   ],
   "source": [
    "df1.sample(3)"
   ]
  },
  {
   "cell_type": "code",
   "execution_count": 171,
   "id": "2808eab0-b438-42a2-b2ae-5339a1b0a759",
   "metadata": {},
   "outputs": [
    {
     "data": {
      "text/plain": [
       "(1000, 16)"
      ]
     },
     "execution_count": 171,
     "metadata": {},
     "output_type": "execute_result"
    }
   ],
   "source": [
    "df1.shape"
   ]
  },
  {
   "cell_type": "markdown",
   "id": "3af28552-5801-4ed3-8776-21ae4f49eb61",
   "metadata": {},
   "source": [
    "## MODEL BUILDING"
   ]
  },
  {
   "cell_type": "markdown",
   "id": "8a8b8217-2948-4eb0-a56b-b77a3dde5964",
   "metadata": {},
   "source": [
    "### MODEL EVALUATION CRITERION"
   ]
  },
  {
   "cell_type": "markdown",
   "id": "12c3e236-ecb8-4129-95cc-f5936d786e43",
   "metadata": {},
   "source": [
    "Model can make wrong prediction as:\n",
    "- FP= Model predicted a non defaulter as a defaulter\n",
    "- FN= Model predicted a defaulter as a non defaulter\n",
    "\n",
    "How to reduce this loss i.e need to reduce false negative?\n",
    "- company would want to reduce the false negatives. we will use the recall metrics."
   ]
  },
  {
   "cell_type": "code",
   "execution_count": 69,
   "id": "4db58fa3-0a2d-4156-b666-eba371326b4a",
   "metadata": {},
   "outputs": [],
   "source": [
    "from sklearn.linear_model import LogisticRegression\n",
    "from sklearn.model_selection import train_test_split"
   ]
  },
  {
   "cell_type": "code",
   "execution_count": 85,
   "id": "1dbccd82-9a01-4066-a6b8-003412215fc4",
   "metadata": {},
   "outputs": [],
   "source": [
    "# Split x and y\n",
    "X=df1.drop(\"Risk\", axis=1)\n",
    "y= df1.Risk"
   ]
  },
  {
   "cell_type": "code",
   "execution_count": 86,
   "id": "4c8fbba5-364b-4d7f-a6b9-0f3212e9488e",
   "metadata": {},
   "outputs": [],
   "source": [
    "# Split training and testing data\n",
    "X_train,X_test,y_train,y_test= train_test_split(X,y, test_size = 0.2)"
   ]
  },
  {
   "cell_type": "code",
   "execution_count": 87,
   "id": "67788af3-8274-43ce-bc56-74c3fff13e9f",
   "metadata": {},
   "outputs": [],
   "source": [
    "# train model\n",
    "model= LogisticRegression()"
   ]
  },
  {
   "cell_type": "code",
   "execution_count": 88,
   "id": "6c930a19-f4f3-4dec-85d2-a3c3bd15ed3b",
   "metadata": {},
   "outputs": [
    {
     "data": {
      "text/html": [
       "<style>#sk-container-id-2 {\n",
       "  /* Definition of color scheme common for light and dark mode */\n",
       "  --sklearn-color-text: #000;\n",
       "  --sklearn-color-text-muted: #666;\n",
       "  --sklearn-color-line: gray;\n",
       "  /* Definition of color scheme for unfitted estimators */\n",
       "  --sklearn-color-unfitted-level-0: #fff5e6;\n",
       "  --sklearn-color-unfitted-level-1: #f6e4d2;\n",
       "  --sklearn-color-unfitted-level-2: #ffe0b3;\n",
       "  --sklearn-color-unfitted-level-3: chocolate;\n",
       "  /* Definition of color scheme for fitted estimators */\n",
       "  --sklearn-color-fitted-level-0: #f0f8ff;\n",
       "  --sklearn-color-fitted-level-1: #d4ebff;\n",
       "  --sklearn-color-fitted-level-2: #b3dbfd;\n",
       "  --sklearn-color-fitted-level-3: cornflowerblue;\n",
       "\n",
       "  /* Specific color for light theme */\n",
       "  --sklearn-color-text-on-default-background: var(--sg-text-color, var(--theme-code-foreground, var(--jp-content-font-color1, black)));\n",
       "  --sklearn-color-background: var(--sg-background-color, var(--theme-background, var(--jp-layout-color0, white)));\n",
       "  --sklearn-color-border-box: var(--sg-text-color, var(--theme-code-foreground, var(--jp-content-font-color1, black)));\n",
       "  --sklearn-color-icon: #696969;\n",
       "\n",
       "  @media (prefers-color-scheme: dark) {\n",
       "    /* Redefinition of color scheme for dark theme */\n",
       "    --sklearn-color-text-on-default-background: var(--sg-text-color, var(--theme-code-foreground, var(--jp-content-font-color1, white)));\n",
       "    --sklearn-color-background: var(--sg-background-color, var(--theme-background, var(--jp-layout-color0, #111)));\n",
       "    --sklearn-color-border-box: var(--sg-text-color, var(--theme-code-foreground, var(--jp-content-font-color1, white)));\n",
       "    --sklearn-color-icon: #878787;\n",
       "  }\n",
       "}\n",
       "\n",
       "#sk-container-id-2 {\n",
       "  color: var(--sklearn-color-text);\n",
       "}\n",
       "\n",
       "#sk-container-id-2 pre {\n",
       "  padding: 0;\n",
       "}\n",
       "\n",
       "#sk-container-id-2 input.sk-hidden--visually {\n",
       "  border: 0;\n",
       "  clip: rect(1px 1px 1px 1px);\n",
       "  clip: rect(1px, 1px, 1px, 1px);\n",
       "  height: 1px;\n",
       "  margin: -1px;\n",
       "  overflow: hidden;\n",
       "  padding: 0;\n",
       "  position: absolute;\n",
       "  width: 1px;\n",
       "}\n",
       "\n",
       "#sk-container-id-2 div.sk-dashed-wrapped {\n",
       "  border: 1px dashed var(--sklearn-color-line);\n",
       "  margin: 0 0.4em 0.5em 0.4em;\n",
       "  box-sizing: border-box;\n",
       "  padding-bottom: 0.4em;\n",
       "  background-color: var(--sklearn-color-background);\n",
       "}\n",
       "\n",
       "#sk-container-id-2 div.sk-container {\n",
       "  /* jupyter's `normalize.less` sets `[hidden] { display: none; }`\n",
       "     but bootstrap.min.css set `[hidden] { display: none !important; }`\n",
       "     so we also need the `!important` here to be able to override the\n",
       "     default hidden behavior on the sphinx rendered scikit-learn.org.\n",
       "     See: https://github.com/scikit-learn/scikit-learn/issues/21755 */\n",
       "  display: inline-block !important;\n",
       "  position: relative;\n",
       "}\n",
       "\n",
       "#sk-container-id-2 div.sk-text-repr-fallback {\n",
       "  display: none;\n",
       "}\n",
       "\n",
       "div.sk-parallel-item,\n",
       "div.sk-serial,\n",
       "div.sk-item {\n",
       "  /* draw centered vertical line to link estimators */\n",
       "  background-image: linear-gradient(var(--sklearn-color-text-on-default-background), var(--sklearn-color-text-on-default-background));\n",
       "  background-size: 2px 100%;\n",
       "  background-repeat: no-repeat;\n",
       "  background-position: center center;\n",
       "}\n",
       "\n",
       "/* Parallel-specific style estimator block */\n",
       "\n",
       "#sk-container-id-2 div.sk-parallel-item::after {\n",
       "  content: \"\";\n",
       "  width: 100%;\n",
       "  border-bottom: 2px solid var(--sklearn-color-text-on-default-background);\n",
       "  flex-grow: 1;\n",
       "}\n",
       "\n",
       "#sk-container-id-2 div.sk-parallel {\n",
       "  display: flex;\n",
       "  align-items: stretch;\n",
       "  justify-content: center;\n",
       "  background-color: var(--sklearn-color-background);\n",
       "  position: relative;\n",
       "}\n",
       "\n",
       "#sk-container-id-2 div.sk-parallel-item {\n",
       "  display: flex;\n",
       "  flex-direction: column;\n",
       "}\n",
       "\n",
       "#sk-container-id-2 div.sk-parallel-item:first-child::after {\n",
       "  align-self: flex-end;\n",
       "  width: 50%;\n",
       "}\n",
       "\n",
       "#sk-container-id-2 div.sk-parallel-item:last-child::after {\n",
       "  align-self: flex-start;\n",
       "  width: 50%;\n",
       "}\n",
       "\n",
       "#sk-container-id-2 div.sk-parallel-item:only-child::after {\n",
       "  width: 0;\n",
       "}\n",
       "\n",
       "/* Serial-specific style estimator block */\n",
       "\n",
       "#sk-container-id-2 div.sk-serial {\n",
       "  display: flex;\n",
       "  flex-direction: column;\n",
       "  align-items: center;\n",
       "  background-color: var(--sklearn-color-background);\n",
       "  padding-right: 1em;\n",
       "  padding-left: 1em;\n",
       "}\n",
       "\n",
       "\n",
       "/* Toggleable style: style used for estimator/Pipeline/ColumnTransformer box that is\n",
       "clickable and can be expanded/collapsed.\n",
       "- Pipeline and ColumnTransformer use this feature and define the default style\n",
       "- Estimators will overwrite some part of the style using the `sk-estimator` class\n",
       "*/\n",
       "\n",
       "/* Pipeline and ColumnTransformer style (default) */\n",
       "\n",
       "#sk-container-id-2 div.sk-toggleable {\n",
       "  /* Default theme specific background. It is overwritten whether we have a\n",
       "  specific estimator or a Pipeline/ColumnTransformer */\n",
       "  background-color: var(--sklearn-color-background);\n",
       "}\n",
       "\n",
       "/* Toggleable label */\n",
       "#sk-container-id-2 label.sk-toggleable__label {\n",
       "  cursor: pointer;\n",
       "  display: flex;\n",
       "  width: 100%;\n",
       "  margin-bottom: 0;\n",
       "  padding: 0.5em;\n",
       "  box-sizing: border-box;\n",
       "  text-align: center;\n",
       "  align-items: start;\n",
       "  justify-content: space-between;\n",
       "  gap: 0.5em;\n",
       "}\n",
       "\n",
       "#sk-container-id-2 label.sk-toggleable__label .caption {\n",
       "  font-size: 0.6rem;\n",
       "  font-weight: lighter;\n",
       "  color: var(--sklearn-color-text-muted);\n",
       "}\n",
       "\n",
       "#sk-container-id-2 label.sk-toggleable__label-arrow:before {\n",
       "  /* Arrow on the left of the label */\n",
       "  content: \"▸\";\n",
       "  float: left;\n",
       "  margin-right: 0.25em;\n",
       "  color: var(--sklearn-color-icon);\n",
       "}\n",
       "\n",
       "#sk-container-id-2 label.sk-toggleable__label-arrow:hover:before {\n",
       "  color: var(--sklearn-color-text);\n",
       "}\n",
       "\n",
       "/* Toggleable content - dropdown */\n",
       "\n",
       "#sk-container-id-2 div.sk-toggleable__content {\n",
       "  max-height: 0;\n",
       "  max-width: 0;\n",
       "  overflow: hidden;\n",
       "  text-align: left;\n",
       "  /* unfitted */\n",
       "  background-color: var(--sklearn-color-unfitted-level-0);\n",
       "}\n",
       "\n",
       "#sk-container-id-2 div.sk-toggleable__content.fitted {\n",
       "  /* fitted */\n",
       "  background-color: var(--sklearn-color-fitted-level-0);\n",
       "}\n",
       "\n",
       "#sk-container-id-2 div.sk-toggleable__content pre {\n",
       "  margin: 0.2em;\n",
       "  border-radius: 0.25em;\n",
       "  color: var(--sklearn-color-text);\n",
       "  /* unfitted */\n",
       "  background-color: var(--sklearn-color-unfitted-level-0);\n",
       "}\n",
       "\n",
       "#sk-container-id-2 div.sk-toggleable__content.fitted pre {\n",
       "  /* unfitted */\n",
       "  background-color: var(--sklearn-color-fitted-level-0);\n",
       "}\n",
       "\n",
       "#sk-container-id-2 input.sk-toggleable__control:checked~div.sk-toggleable__content {\n",
       "  /* Expand drop-down */\n",
       "  max-height: 200px;\n",
       "  max-width: 100%;\n",
       "  overflow: auto;\n",
       "}\n",
       "\n",
       "#sk-container-id-2 input.sk-toggleable__control:checked~label.sk-toggleable__label-arrow:before {\n",
       "  content: \"▾\";\n",
       "}\n",
       "\n",
       "/* Pipeline/ColumnTransformer-specific style */\n",
       "\n",
       "#sk-container-id-2 div.sk-label input.sk-toggleable__control:checked~label.sk-toggleable__label {\n",
       "  color: var(--sklearn-color-text);\n",
       "  background-color: var(--sklearn-color-unfitted-level-2);\n",
       "}\n",
       "\n",
       "#sk-container-id-2 div.sk-label.fitted input.sk-toggleable__control:checked~label.sk-toggleable__label {\n",
       "  background-color: var(--sklearn-color-fitted-level-2);\n",
       "}\n",
       "\n",
       "/* Estimator-specific style */\n",
       "\n",
       "/* Colorize estimator box */\n",
       "#sk-container-id-2 div.sk-estimator input.sk-toggleable__control:checked~label.sk-toggleable__label {\n",
       "  /* unfitted */\n",
       "  background-color: var(--sklearn-color-unfitted-level-2);\n",
       "}\n",
       "\n",
       "#sk-container-id-2 div.sk-estimator.fitted input.sk-toggleable__control:checked~label.sk-toggleable__label {\n",
       "  /* fitted */\n",
       "  background-color: var(--sklearn-color-fitted-level-2);\n",
       "}\n",
       "\n",
       "#sk-container-id-2 div.sk-label label.sk-toggleable__label,\n",
       "#sk-container-id-2 div.sk-label label {\n",
       "  /* The background is the default theme color */\n",
       "  color: var(--sklearn-color-text-on-default-background);\n",
       "}\n",
       "\n",
       "/* On hover, darken the color of the background */\n",
       "#sk-container-id-2 div.sk-label:hover label.sk-toggleable__label {\n",
       "  color: var(--sklearn-color-text);\n",
       "  background-color: var(--sklearn-color-unfitted-level-2);\n",
       "}\n",
       "\n",
       "/* Label box, darken color on hover, fitted */\n",
       "#sk-container-id-2 div.sk-label.fitted:hover label.sk-toggleable__label.fitted {\n",
       "  color: var(--sklearn-color-text);\n",
       "  background-color: var(--sklearn-color-fitted-level-2);\n",
       "}\n",
       "\n",
       "/* Estimator label */\n",
       "\n",
       "#sk-container-id-2 div.sk-label label {\n",
       "  font-family: monospace;\n",
       "  font-weight: bold;\n",
       "  display: inline-block;\n",
       "  line-height: 1.2em;\n",
       "}\n",
       "\n",
       "#sk-container-id-2 div.sk-label-container {\n",
       "  text-align: center;\n",
       "}\n",
       "\n",
       "/* Estimator-specific */\n",
       "#sk-container-id-2 div.sk-estimator {\n",
       "  font-family: monospace;\n",
       "  border: 1px dotted var(--sklearn-color-border-box);\n",
       "  border-radius: 0.25em;\n",
       "  box-sizing: border-box;\n",
       "  margin-bottom: 0.5em;\n",
       "  /* unfitted */\n",
       "  background-color: var(--sklearn-color-unfitted-level-0);\n",
       "}\n",
       "\n",
       "#sk-container-id-2 div.sk-estimator.fitted {\n",
       "  /* fitted */\n",
       "  background-color: var(--sklearn-color-fitted-level-0);\n",
       "}\n",
       "\n",
       "/* on hover */\n",
       "#sk-container-id-2 div.sk-estimator:hover {\n",
       "  /* unfitted */\n",
       "  background-color: var(--sklearn-color-unfitted-level-2);\n",
       "}\n",
       "\n",
       "#sk-container-id-2 div.sk-estimator.fitted:hover {\n",
       "  /* fitted */\n",
       "  background-color: var(--sklearn-color-fitted-level-2);\n",
       "}\n",
       "\n",
       "/* Specification for estimator info (e.g. \"i\" and \"?\") */\n",
       "\n",
       "/* Common style for \"i\" and \"?\" */\n",
       "\n",
       ".sk-estimator-doc-link,\n",
       "a:link.sk-estimator-doc-link,\n",
       "a:visited.sk-estimator-doc-link {\n",
       "  float: right;\n",
       "  font-size: smaller;\n",
       "  line-height: 1em;\n",
       "  font-family: monospace;\n",
       "  background-color: var(--sklearn-color-background);\n",
       "  border-radius: 1em;\n",
       "  height: 1em;\n",
       "  width: 1em;\n",
       "  text-decoration: none !important;\n",
       "  margin-left: 0.5em;\n",
       "  text-align: center;\n",
       "  /* unfitted */\n",
       "  border: var(--sklearn-color-unfitted-level-1) 1pt solid;\n",
       "  color: var(--sklearn-color-unfitted-level-1);\n",
       "}\n",
       "\n",
       ".sk-estimator-doc-link.fitted,\n",
       "a:link.sk-estimator-doc-link.fitted,\n",
       "a:visited.sk-estimator-doc-link.fitted {\n",
       "  /* fitted */\n",
       "  border: var(--sklearn-color-fitted-level-1) 1pt solid;\n",
       "  color: var(--sklearn-color-fitted-level-1);\n",
       "}\n",
       "\n",
       "/* On hover */\n",
       "div.sk-estimator:hover .sk-estimator-doc-link:hover,\n",
       ".sk-estimator-doc-link:hover,\n",
       "div.sk-label-container:hover .sk-estimator-doc-link:hover,\n",
       ".sk-estimator-doc-link:hover {\n",
       "  /* unfitted */\n",
       "  background-color: var(--sklearn-color-unfitted-level-3);\n",
       "  color: var(--sklearn-color-background);\n",
       "  text-decoration: none;\n",
       "}\n",
       "\n",
       "div.sk-estimator.fitted:hover .sk-estimator-doc-link.fitted:hover,\n",
       ".sk-estimator-doc-link.fitted:hover,\n",
       "div.sk-label-container:hover .sk-estimator-doc-link.fitted:hover,\n",
       ".sk-estimator-doc-link.fitted:hover {\n",
       "  /* fitted */\n",
       "  background-color: var(--sklearn-color-fitted-level-3);\n",
       "  color: var(--sklearn-color-background);\n",
       "  text-decoration: none;\n",
       "}\n",
       "\n",
       "/* Span, style for the box shown on hovering the info icon */\n",
       ".sk-estimator-doc-link span {\n",
       "  display: none;\n",
       "  z-index: 9999;\n",
       "  position: relative;\n",
       "  font-weight: normal;\n",
       "  right: .2ex;\n",
       "  padding: .5ex;\n",
       "  margin: .5ex;\n",
       "  width: min-content;\n",
       "  min-width: 20ex;\n",
       "  max-width: 50ex;\n",
       "  color: var(--sklearn-color-text);\n",
       "  box-shadow: 2pt 2pt 4pt #999;\n",
       "  /* unfitted */\n",
       "  background: var(--sklearn-color-unfitted-level-0);\n",
       "  border: .5pt solid var(--sklearn-color-unfitted-level-3);\n",
       "}\n",
       "\n",
       ".sk-estimator-doc-link.fitted span {\n",
       "  /* fitted */\n",
       "  background: var(--sklearn-color-fitted-level-0);\n",
       "  border: var(--sklearn-color-fitted-level-3);\n",
       "}\n",
       "\n",
       ".sk-estimator-doc-link:hover span {\n",
       "  display: block;\n",
       "}\n",
       "\n",
       "/* \"?\"-specific style due to the `<a>` HTML tag */\n",
       "\n",
       "#sk-container-id-2 a.estimator_doc_link {\n",
       "  float: right;\n",
       "  font-size: 1rem;\n",
       "  line-height: 1em;\n",
       "  font-family: monospace;\n",
       "  background-color: var(--sklearn-color-background);\n",
       "  border-radius: 1rem;\n",
       "  height: 1rem;\n",
       "  width: 1rem;\n",
       "  text-decoration: none;\n",
       "  /* unfitted */\n",
       "  color: var(--sklearn-color-unfitted-level-1);\n",
       "  border: var(--sklearn-color-unfitted-level-1) 1pt solid;\n",
       "}\n",
       "\n",
       "#sk-container-id-2 a.estimator_doc_link.fitted {\n",
       "  /* fitted */\n",
       "  border: var(--sklearn-color-fitted-level-1) 1pt solid;\n",
       "  color: var(--sklearn-color-fitted-level-1);\n",
       "}\n",
       "\n",
       "/* On hover */\n",
       "#sk-container-id-2 a.estimator_doc_link:hover {\n",
       "  /* unfitted */\n",
       "  background-color: var(--sklearn-color-unfitted-level-3);\n",
       "  color: var(--sklearn-color-background);\n",
       "  text-decoration: none;\n",
       "}\n",
       "\n",
       "#sk-container-id-2 a.estimator_doc_link.fitted:hover {\n",
       "  /* fitted */\n",
       "  background-color: var(--sklearn-color-fitted-level-3);\n",
       "}\n",
       "</style><div id=\"sk-container-id-2\" class=\"sk-top-container\"><div class=\"sk-text-repr-fallback\"><pre>LogisticRegression()</pre><b>In a Jupyter environment, please rerun this cell to show the HTML representation or trust the notebook. <br />On GitHub, the HTML representation is unable to render, please try loading this page with nbviewer.org.</b></div><div class=\"sk-container\" hidden><div class=\"sk-item\"><div class=\"sk-estimator fitted sk-toggleable\"><input class=\"sk-toggleable__control sk-hidden--visually\" id=\"sk-estimator-id-2\" type=\"checkbox\" checked><label for=\"sk-estimator-id-2\" class=\"sk-toggleable__label fitted sk-toggleable__label-arrow\"><div><div>LogisticRegression</div></div><div><a class=\"sk-estimator-doc-link fitted\" rel=\"noreferrer\" target=\"_blank\" href=\"https://scikit-learn.org/1.6/modules/generated/sklearn.linear_model.LogisticRegression.html\">?<span>Documentation for LogisticRegression</span></a><span class=\"sk-estimator-doc-link fitted\">i<span>Fitted</span></span></div></label><div class=\"sk-toggleable__content fitted\"><pre>LogisticRegression()</pre></div> </div></div></div></div>"
      ],
      "text/plain": [
       "LogisticRegression()"
      ]
     },
     "execution_count": 88,
     "metadata": {},
     "output_type": "execute_result"
    }
   ],
   "source": [
    "model.fit(X_train,y_train)"
   ]
  },
  {
   "cell_type": "code",
   "execution_count": 89,
   "id": "104b884d-1db1-4d7f-bef8-49267085793d",
   "metadata": {},
   "outputs": [
    {
     "data": {
      "text/plain": [
       "0.67"
      ]
     },
     "execution_count": 89,
     "metadata": {},
     "output_type": "execute_result"
    }
   ],
   "source": [
    "# check for accuracy\n",
    "model.score(X_test,y_test)"
   ]
  },
  {
   "cell_type": "code",
   "execution_count": 90,
   "id": "3162a26a-bf48-467c-9825-afc40143e8f9",
   "metadata": {},
   "outputs": [],
   "source": [
    "# import evaluation metrics\n",
    "from sklearn.metrics import confusion_matrix, accuracy_score, precision_score,f1_score,classification_report,recall_score"
   ]
  },
  {
   "cell_type": "code",
   "execution_count": 91,
   "id": "bb148e39-1bf4-45df-ac2c-ce997f3fe353",
   "metadata": {},
   "outputs": [
    {
     "data": {
      "text/plain": [
       "['bank.joblib']"
      ]
     },
     "execution_count": 91,
     "metadata": {},
     "output_type": "execute_result"
    }
   ],
   "source": [
    "# we introduced this so as to save the model for use on streamlit\n",
    "import joblib\n",
    "joblib.dump(model,\"bank.joblib\")# saving "
   ]
  },
  {
   "cell_type": "code",
   "execution_count": 92,
   "id": "fda942a5-6f22-47d4-93ae-1858e853e638",
   "metadata": {},
   "outputs": [],
   "source": [
    "y_pred = model.predict(X_test)"
   ]
  },
  {
   "cell_type": "code",
   "execution_count": 93,
   "id": "1bab1927-00af-42ea-84fb-8820162c3e47",
   "metadata": {},
   "outputs": [
    {
     "data": {
      "text/plain": [
       "array([[127,   7],\n",
       "       [ 59,   7]])"
      ]
     },
     "execution_count": 93,
     "metadata": {},
     "output_type": "execute_result"
    }
   ],
   "source": [
    "#Evaluation using confusion matrix\n",
    "cm=confusion_matrix(y_test,y_pred)\n",
    "cm"
   ]
  },
  {
   "cell_type": "code",
   "execution_count": 94,
   "id": "da66e5c1-2abe-40a9-9e1d-3ca957b4b5c7",
   "metadata": {
    "scrolled": true
   },
   "outputs": [
    {
     "data": {
      "text/plain": [
       "Risk\n",
       "0    134\n",
       "1     66\n",
       "Name: count, dtype: int64"
      ]
     },
     "execution_count": 94,
     "metadata": {},
     "output_type": "execute_result"
    }
   ],
   "source": [
    "y_test.value_counts()"
   ]
  },
  {
   "cell_type": "code",
   "execution_count": 95,
   "id": "518a4b6e-b0b6-475e-a1dc-c3bb343fa8d5",
   "metadata": {},
   "outputs": [
    {
     "data": {
      "text/plain": [
       "<Axes: >"
      ]
     },
     "execution_count": 95,
     "metadata": {},
     "output_type": "execute_result"
    },
    {
     "data": {
      "image/png": "[encoded data removed]",
      "text/plain": [
       "<Figure size 640x480 with 2 Axes>"
      ]
     },
     "metadata": {},
     "output_type": "display_data"
    }
   ],
   "source": [
    "sns.heatmap(cm,annot=True,fmt=\"\")"
   ]
  },
  {
   "cell_type": "code",
   "execution_count": 96,
   "id": "85abd920-2920-423c-ac87-4274a725fe2b",
   "metadata": {},
   "outputs": [
    {
     "data": {
      "text/plain": [
       "0.725"
      ]
     },
     "execution_count": 96,
     "metadata": {},
     "output_type": "execute_result"
    }
   ],
   "source": [
    "# you can use the formular to calc yourself\n",
    "(133+12)/(133+12+50+5)"
   ]
  },
  {
   "cell_type": "code",
   "execution_count": 97,
   "id": "b241b968-01ff-4fe2-89e2-49b031c69525",
   "metadata": {},
   "outputs": [
    {
     "data": {
      "text/plain": [
       "0.5"
      ]
     },
     "execution_count": 97,
     "metadata": {},
     "output_type": "execute_result"
    }
   ],
   "source": [
    "#prescision\n",
    "precision_score(y_test,y_pred)"
   ]
  },
  {
   "cell_type": "code",
   "execution_count": 98,
   "id": "4c970c42-b3ed-48ed-9351-2570695facee",
   "metadata": {},
   "outputs": [
    {
     "data": {
      "text/plain": [
       "0.10606060606060606"
      ]
     },
     "execution_count": 98,
     "metadata": {},
     "output_type": "execute_result"
    }
   ],
   "source": [
    "recall_score(y_test,y_pred)"
   ]
  },
  {
   "cell_type": "code",
   "execution_count": 99,
   "id": "e01061db-ec31-4791-b2ff-5a8a2ecfa9a2",
   "metadata": {},
   "outputs": [
    {
     "name": "stdout",
     "output_type": "stream",
     "text": [
      "              precision    recall  f1-score   support\n",
      "\n",
      "           0       0.68      0.95      0.79       134\n",
      "           1       0.50      0.11      0.17        66\n",
      "\n",
      "    accuracy                           0.67       200\n",
      "   macro avg       0.59      0.53      0.48       200\n",
      "weighted avg       0.62      0.67      0.59       200\n",
      "\n"
     ]
    }
   ],
   "source": [
    "print(classification_report(y_test,y_pred))"
   ]
  },
  {
   "cell_type": "markdown",
   "id": "6a490b22-e587-42b7-a30b-9bd5d5995e8c",
   "metadata": {},
   "source": [
    "- since we are focusing on recall and the recall score is poor, we should go back to feature preprocessing, feature engineering and finally do model tuning and this will lead us to SVM and for this, we will use an inbuild data\n",
    "  "
   ]
  },
  {
   "cell_type": "markdown",
   "id": "dc2d7190-2786-418b-993b-e32aa8a06d33",
   "metadata": {},
   "source": [
    "## INSIGHTS AND CONCLUSION"
   ]
  },
  {
   "cell_type": "markdown",
   "id": "b9a3c4df-ad2c-4e8a-b8ce-d7b631470524",
   "metadata": {},
   "source": [
    "- Logistic Regression achieved an accuracy score indicating its usefulness.\n",
    "- in predicting credit risk.\n",
    "- The classification report shows precision and recall for both good and bad credit risk groups.\n",
    "- This model can be extended with more advanced algorithms (e.g., Random Forest, XGBoost)\n",
    "- for potential performance improvements."
   ]
  },
  {
   "cell_type": "code",
   "execution_count": null,
   "id": "b5fca9f2-4ce9-48b0-8a05-179f8ba2ff1c",
   "metadata": {},
   "outputs": [],
   "source": []
  }
 ],
 "metadata": {
  "kernelspec": {
   "display_name": "Python 3 (ipykernel)",
   "language": "python",
   "name": "python3"
  },
  "language_info": {
   "codemirror_mode": {
    "name": "ipython",
    "version": 3
   },
   "file_extension": ".py",
   "mimetype": "text/x-python",
   "name": "python",
   "nbconvert_exporter": "python",
   "pygments_lexer": "ipython3",
   "version": "3.13.1"
  }
 },
 "nbformat": 4,
 "nbformat_minor": 5
}
